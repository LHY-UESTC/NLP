{
 "cells": [
  {
   "cell_type": "markdown",
   "metadata": {},
   "source": [
    "# 1.Introduction\n",
    "我在数据科学领域很陌生，特别是变压器对我来说是一个非常新的概念。在我探索更多关于BERT的知识时，我注意到kaggle上的大部分材料要么讨论BERT模型中的底层逻辑和模块（这对初学者来说是必要的），要么提供没有太多细节的代码块。这份材料试图弥合从BERT模型的基础和理论到简单模型实用性的差距。\n",
    "\n",
    "这本笔记本中的许多工作都是受这本笔记本中chumajin工作的启发。我想在这里感谢他，并补充说，我已经使其适应了我们在这次比赛中的问题。我还添加了更多的可视化，以查看模型在不同时代和不同褶皱的迭代中的影响。\n",
    "\n",
    "## 1.1 Objective\n",
    "创建一个模型，预测每个评论的每种毒性的概率。\n",
    "\n",
    "本笔记本分为两部分。由于kaggle中的内存限制，我将其分成两部分。您可以独立运行第一部分或第二部分。\n",
    "\n",
    "在第一部分中，我试图解释我们处理类似任务需要采取的主要步骤，对于不同标签的二分类。这部分中的模型仅适用于训练集和验证集的一个分布。你可以看到我们从这个模型中得到的初始性能结果（auc分数）。\n",
    "\n",
    "在第二部分中，我已经从第一部分中列出了所有必要的代码块，然后展示了如何为k_fold（k=5）中的训练集和验证集的不同选择开发5个模型。然后将每个评论的所有类型毒性的概率估计为这5个模型的平均值。\n",
    "\n",
    "## 1.2 Parameters affecting simulation time\n",
    "为了快速运行这个笔记本，看看它是如何工作的，在第一部分和第二部分，您可以将训练集减少到有限的行数。我在第一部分中取了200行，在第二部分中取了2000行。\n",
    "\n",
    "在第一部分中它非常低的原因是代码选择了教育原因而不是效率。因此，它读取了许多不同的变量，如果我们超过200行，就会导致cuda内存崩溃。这给我们第一部分的结果并不令人印象深刻（准确率86%）\n",
    "\n",
    "在第二部分中，代码比第一部分更方便，并且可以增加行数以包含整个训练集。但是，我将其限制在2000，因此您可以在22分钟的模拟中获得相当好的结果（94%的准确率和0.988 auc分数）。\n",
    "\n",
    "你可以有(epochs = 5, k = 5) ，看看不同纪元的精度和损耗是如何影响的。精度和损耗在可接受的范围内，因为这本笔记本不关心达到最先进的结果。\n",
    "\n",
    "# PART 1\n",
    "# 2.Prepare the data\n",
    "## 2.1 Loading libraries"
   ]
  },
  {
   "cell_type": "code",
   "execution_count": 2,
   "metadata": {},
   "outputs": [
    {
     "name": "stderr",
     "output_type": "stream",
     "text": [
      "/usr/local/lib/python3.10/dist-packages/tqdm/auto.py:21: TqdmWarning: IProgress not found. Please update jupyter and ipywidgets. See https://ipywidgets.readthedocs.io/en/stable/user_install.html\n",
      "  from .autonotebook import tqdm as notebook_tqdm\n"
     ]
    }
   ],
   "source": [
    "import numpy as np\n",
    "import pandas as pd\n",
    "import os\n",
    "import random\n",
    "import time\n",
    "\n",
    "import re\n",
    "import string\n",
    "import nltk\n",
    "from nltk.corpus import stopwords\n",
    "\n",
    "import matplotlib.pyplot as plt\n",
    "import seaborn as sns\n",
    "sns.set(style=\"ticks\", context=\"talk\")\n",
    "plt.style.use('dark_background')\n",
    "\n",
    "from tqdm import tqdm\n",
    "\n",
    "import torch\n",
    "import torch.nn as nn\n",
    "import torch.nn.functional as func\n",
    "from torch.utils.data import DataLoader, Dataset\n",
    "\n",
    "import transformers\n",
    "from transformers import AdamW, get_linear_schedule_with_warmup\n",
    "\n",
    "import tokenizers\n",
    "from sklearn.metrics import mean_squared_error, roc_auc_score, roc_curve, auc\n",
    "\n",
    "import warnings\n",
    "warnings.simplefilter('ignore')"
   ]
  },
  {
   "cell_type": "code",
   "execution_count": 3,
   "metadata": {},
   "outputs": [],
   "source": [
    "# 我们为结果的可重复性播下了seed。\n",
    "SEED = 34\n",
    "\n",
    "def random_seed(SEED):\n",
    "    random.seed(SEED)\n",
    "    os.environ['PYTHONHASHSEED'] = str(SEED)\n",
    "    np.random.seed(SEED)\n",
    "    torch.manual_seed(SEED)\n",
    "    torch.cuda.manual_seed(SEED)\n",
    "    torch.cuda.manual_seed_all(SEED)\n",
    "    torch.backends.cudnn.deterministic = True\n",
    "\n",
    "random_seed(SEED)"
   ]
  },
  {
   "cell_type": "code",
   "execution_count": 4,
   "metadata": {},
   "outputs": [
    {
     "data": {
      "text/html": [
       "<div>\n",
       "<style scoped>\n",
       "    .dataframe tbody tr th:only-of-type {\n",
       "        vertical-align: middle;\n",
       "    }\n",
       "\n",
       "    .dataframe tbody tr th {\n",
       "        vertical-align: top;\n",
       "    }\n",
       "\n",
       "    .dataframe thead th {\n",
       "        text-align: right;\n",
       "    }\n",
       "</style>\n",
       "<table border=\"1\" class=\"dataframe\">\n",
       "  <thead>\n",
       "    <tr style=\"text-align: right;\">\n",
       "      <th></th>\n",
       "      <th>id</th>\n",
       "      <th>comment_text</th>\n",
       "      <th>toxic</th>\n",
       "      <th>severe_toxic</th>\n",
       "      <th>obscene</th>\n",
       "      <th>threat</th>\n",
       "      <th>insult</th>\n",
       "      <th>identity_hate</th>\n",
       "    </tr>\n",
       "  </thead>\n",
       "  <tbody>\n",
       "    <tr>\n",
       "      <th>0</th>\n",
       "      <td>0000997932d777bf</td>\n",
       "      <td>Explanation\\nWhy the edits made under my usern...</td>\n",
       "      <td>0</td>\n",
       "      <td>0</td>\n",
       "      <td>0</td>\n",
       "      <td>0</td>\n",
       "      <td>0</td>\n",
       "      <td>0</td>\n",
       "    </tr>\n",
       "    <tr>\n",
       "      <th>1</th>\n",
       "      <td>000103f0d9cfb60f</td>\n",
       "      <td>D'aww! He matches this background colour I'm s...</td>\n",
       "      <td>0</td>\n",
       "      <td>0</td>\n",
       "      <td>0</td>\n",
       "      <td>0</td>\n",
       "      <td>0</td>\n",
       "      <td>0</td>\n",
       "    </tr>\n",
       "    <tr>\n",
       "      <th>2</th>\n",
       "      <td>000113f07ec002fd</td>\n",
       "      <td>Hey man, I'm really not trying to edit war. It...</td>\n",
       "      <td>0</td>\n",
       "      <td>0</td>\n",
       "      <td>0</td>\n",
       "      <td>0</td>\n",
       "      <td>0</td>\n",
       "      <td>0</td>\n",
       "    </tr>\n",
       "    <tr>\n",
       "      <th>3</th>\n",
       "      <td>0001b41b1c6bb37e</td>\n",
       "      <td>\"\\nMore\\nI can't make any real suggestions on ...</td>\n",
       "      <td>0</td>\n",
       "      <td>0</td>\n",
       "      <td>0</td>\n",
       "      <td>0</td>\n",
       "      <td>0</td>\n",
       "      <td>0</td>\n",
       "    </tr>\n",
       "    <tr>\n",
       "      <th>4</th>\n",
       "      <td>0001d958c54c6e35</td>\n",
       "      <td>You, sir, are my hero. Any chance you remember...</td>\n",
       "      <td>0</td>\n",
       "      <td>0</td>\n",
       "      <td>0</td>\n",
       "      <td>0</td>\n",
       "      <td>0</td>\n",
       "      <td>0</td>\n",
       "    </tr>\n",
       "  </tbody>\n",
       "</table>\n",
       "</div>"
      ],
      "text/plain": [
       "                 id                                       comment_text  toxic  \\\n",
       "0  0000997932d777bf  Explanation\\nWhy the edits made under my usern...      0   \n",
       "1  000103f0d9cfb60f  D'aww! He matches this background colour I'm s...      0   \n",
       "2  000113f07ec002fd  Hey man, I'm really not trying to edit war. It...      0   \n",
       "3  0001b41b1c6bb37e  \"\\nMore\\nI can't make any real suggestions on ...      0   \n",
       "4  0001d958c54c6e35  You, sir, are my hero. Any chance you remember...      0   \n",
       "\n",
       "   severe_toxic  obscene  threat  insult  identity_hate  \n",
       "0             0        0       0       0              0  \n",
       "1             0        0       0       0              0  \n",
       "2             0        0       0       0              0  \n",
       "3             0        0       0       0              0  \n",
       "4             0        0       0       0              0  "
      ]
     },
     "execution_count": 4,
     "metadata": {},
     "output_type": "execute_result"
    }
   ],
   "source": [
    "train = pd.read_csv('./jigsaw-toxic-comment-classification-challenge/train.csv', nrows = 200 )\n",
    "train.head()"
   ]
  },
  {
   "cell_type": "code",
   "execution_count": 5,
   "metadata": {},
   "outputs": [
    {
     "data": {
      "text/html": [
       "<div>\n",
       "<style scoped>\n",
       "    .dataframe tbody tr th:only-of-type {\n",
       "        vertical-align: middle;\n",
       "    }\n",
       "\n",
       "    .dataframe tbody tr th {\n",
       "        vertical-align: top;\n",
       "    }\n",
       "\n",
       "    .dataframe thead th {\n",
       "        text-align: right;\n",
       "    }\n",
       "</style>\n",
       "<table border=\"1\" class=\"dataframe\">\n",
       "  <thead>\n",
       "    <tr style=\"text-align: right;\">\n",
       "      <th></th>\n",
       "      <th>id</th>\n",
       "      <th>comment_text</th>\n",
       "      <th>toxic</th>\n",
       "      <th>severe_toxic</th>\n",
       "      <th>obscene</th>\n",
       "      <th>threat</th>\n",
       "      <th>insult</th>\n",
       "      <th>identity_hate</th>\n",
       "    </tr>\n",
       "  </thead>\n",
       "  <tbody>\n",
       "    <tr>\n",
       "      <th>6</th>\n",
       "      <td>0002bcb3da6cb337</td>\n",
       "      <td>COCKSUCKER BEFORE YOU PISS AROUND ON MY WORK</td>\n",
       "      <td>1</td>\n",
       "      <td>1</td>\n",
       "      <td>1</td>\n",
       "      <td>0</td>\n",
       "      <td>1</td>\n",
       "      <td>0</td>\n",
       "    </tr>\n",
       "    <tr>\n",
       "      <th>12</th>\n",
       "      <td>0005c987bdfc9d4b</td>\n",
       "      <td>Hey... what is it..\\n@ | talk .\\nWhat is it......</td>\n",
       "      <td>1</td>\n",
       "      <td>0</td>\n",
       "      <td>0</td>\n",
       "      <td>0</td>\n",
       "      <td>0</td>\n",
       "      <td>0</td>\n",
       "    </tr>\n",
       "    <tr>\n",
       "      <th>16</th>\n",
       "      <td>0007e25b2121310b</td>\n",
       "      <td>Bye! \\n\\nDon't look, come or think of comming ...</td>\n",
       "      <td>1</td>\n",
       "      <td>0</td>\n",
       "      <td>0</td>\n",
       "      <td>0</td>\n",
       "      <td>0</td>\n",
       "      <td>0</td>\n",
       "    </tr>\n",
       "    <tr>\n",
       "      <th>42</th>\n",
       "      <td>001810bf8c45bf5f</td>\n",
       "      <td>You are gay or antisemmitian? \\n\\nArchangel WH...</td>\n",
       "      <td>1</td>\n",
       "      <td>0</td>\n",
       "      <td>1</td>\n",
       "      <td>0</td>\n",
       "      <td>1</td>\n",
       "      <td>1</td>\n",
       "    </tr>\n",
       "    <tr>\n",
       "      <th>43</th>\n",
       "      <td>00190820581d90ce</td>\n",
       "      <td>FUCK YOUR FILTHY MOTHER IN THE ASS, DRY!</td>\n",
       "      <td>1</td>\n",
       "      <td>0</td>\n",
       "      <td>1</td>\n",
       "      <td>0</td>\n",
       "      <td>1</td>\n",
       "      <td>0</td>\n",
       "    </tr>\n",
       "  </tbody>\n",
       "</table>\n",
       "</div>"
      ],
      "text/plain": [
       "                  id                                       comment_text  \\\n",
       "6   0002bcb3da6cb337       COCKSUCKER BEFORE YOU PISS AROUND ON MY WORK   \n",
       "12  0005c987bdfc9d4b  Hey... what is it..\\n@ | talk .\\nWhat is it......   \n",
       "16  0007e25b2121310b  Bye! \\n\\nDon't look, come or think of comming ...   \n",
       "42  001810bf8c45bf5f  You are gay or antisemmitian? \\n\\nArchangel WH...   \n",
       "43  00190820581d90ce           FUCK YOUR FILTHY MOTHER IN THE ASS, DRY!   \n",
       "\n",
       "    toxic  severe_toxic  obscene  threat  insult  identity_hate  \n",
       "6       1             1        1       0       1              0  \n",
       "12      1             0        0       0       0              0  \n",
       "16      1             0        0       0       0              0  \n",
       "42      1             0        1       0       1              1  \n",
       "43      1             0        1       0       1              0  "
      ]
     },
     "execution_count": 5,
     "metadata": {},
     "output_type": "execute_result"
    }
   ],
   "source": [
    "temp = train[train['toxic'] == 1]\n",
    "temp.head()"
   ]
  },
  {
   "cell_type": "code",
   "execution_count": 6,
   "metadata": {},
   "outputs": [
    {
     "name": "stdout",
     "output_type": "stream",
     "text": [
      "2875 Total Characters\n"
     ]
    },
    {
     "data": {
      "text/plain": [
       "'\"\\nFair use rationale for Image:Wonju.jpg\\n\\nThanks for uploading Image:Wonju.jpg. I notice the image page specifies that the image is being used under fair use but there is no explanation or rationale as to why its use in Wikipedia articles constitutes fair use. In addition to the boilerplate fair use template, you must also write out on the image description page a specific explanation or rationale for why using this image in each article is consistent with fair use.\\n\\nPlease go to the image description page and edit it to include a fair use rationale.\\n\\nIf you have uploaded other fair use media, consider checking that you have specified the fair use rationale on those pages too. You can find a list of \\'image\\' pages you have edited by clicking on the \"\"my contributions\"\" link (it is located at the very top of any Wikipedia page when you are logged in), and then selecting \"\"Image\"\" from the dropdown box. Note that any fair use images uploaded after 4 May, 2006, and lacking such an explanation will be deleted one week after they have been uploaded, as described on criteria for speedy deletion. If you have any questions please ask them at the Media copyright questions page. Thank you. (talk • contribs • ) \\nUnspecified source for Image:Wonju.jpg\\n\\nThanks for uploading Image:Wonju.jpg. I noticed that the file\\'s description page currently doesn\\'t specify who created the content, so the copyright status is unclear. If you did not create this file yourself, then you will need to specify the owner of the copyright. If you obtained it from a website, then a link to the website from which it was taken, together with a restatement of that website\\'s terms of use of its content, is usually sufficient information. However, if the copyright holder is different from the website\\'s publisher, then their copyright should also be acknowledged.\\n\\nAs well as adding the source, please add a proper copyright licensing tag if the file doesn\\'t have one already. If you created/took the picture, audio, or video then the  tag can be used to release it under the GFDL. If you believe the media meets the criteria at Wikipedia:Fair use, use a tag such as  or one of the other tags listed at Wikipedia:Image copyright tags#Fair use. See Wikipedia:Image copyright tags for the full list of copyright tags that you can use.\\n\\nIf you have uploaded other files, consider checking that you have specified their source and tagged them, too. You can find a list of files you have uploaded by following [ this link]. Unsourced and untagged images may be deleted one week after they have been tagged, as described on criteria for speedy deletion. If the image is copyrighted under a non-free license (per Wikipedia:Fair use) then the image will be deleted 48 hours after . If you have any questions please ask them at the Media copyright questions page. Thank you. (talk • contribs • ) \"'"
      ]
     },
     "execution_count": 6,
     "metadata": {},
     "output_type": "execute_result"
    }
   ],
   "source": [
    "# 打印了train数据集中 'comment_text' 列的第10个样本的字符总数。\n",
    "print(len(train['comment_text'][10]), 'Total Characters')\n",
    "# 使用 train['comment_text'][10] 来访问 train 数据集中 'comment_text' 列的第10个样本。\n",
    "train['comment_text'][10]"
   ]
  },
  {
   "cell_type": "code",
   "execution_count": 7,
   "metadata": {},
   "outputs": [
    {
     "data": {
      "text/plain": [
       "[array([0, 1]),\n",
       " array([0, 1]),\n",
       " array([0, 1]),\n",
       " array([0, 1]),\n",
       " array([0, 1]),\n",
       " array([0, 1])]"
      ]
     },
     "execution_count": 7,
     "metadata": {},
     "output_type": "execute_result"
    }
   ],
   "source": [
    "# 一条评论可以同时有毒、severe_toxic、淫秽和侮辱。所以每个评论的类别不限于一个。\n",
    "# 现在让我们检查训练数据集中每一列的值。\n",
    "\n",
    "# 从训练数据集中删除 'id' 和 'comment_text' 列，得到一个新的DataFrame对象 labels，其中包含了除了这两列之外的所有列。\n",
    "labels = train.drop(['id', 'comment_text'], axis = 1)\n",
    "# 定义了一个名为 unique_values 的 lambda 函数，该函数接受一个参数 x，并返回 train[x] 列的独特值。\n",
    "unique_values = lambda x: train[x].unique()\n",
    "# 遍历 labels DataFrame 的所有列。对于每一列，代码调用 unique_values 函数，并将结果收集到一个列表中。\n",
    "[unique_values(col) for col in labels.columns.tolist()]"
   ]
  },
  {
   "cell_type": "code",
   "execution_count": 8,
   "metadata": {},
   "outputs": [
    {
     "data": {
      "text/html": [
       "<div>\n",
       "<style scoped>\n",
       "    .dataframe tbody tr th:only-of-type {\n",
       "        vertical-align: middle;\n",
       "    }\n",
       "\n",
       "    .dataframe tbody tr th {\n",
       "        vertical-align: top;\n",
       "    }\n",
       "\n",
       "    .dataframe thead th {\n",
       "        text-align: right;\n",
       "    }\n",
       "</style>\n",
       "<table border=\"1\" class=\"dataframe\">\n",
       "  <thead>\n",
       "    <tr style=\"text-align: right;\">\n",
       "      <th></th>\n",
       "      <th>id</th>\n",
       "      <th>comment_text</th>\n",
       "    </tr>\n",
       "  </thead>\n",
       "  <tbody>\n",
       "    <tr>\n",
       "      <th>0</th>\n",
       "      <td>00001cee341fdb12</td>\n",
       "      <td>Yo bitch Ja Rule is more succesful then you'll...</td>\n",
       "    </tr>\n",
       "    <tr>\n",
       "      <th>1</th>\n",
       "      <td>0000247867823ef7</td>\n",
       "      <td>== From RfC == \\n\\n The title is fine as it is...</td>\n",
       "    </tr>\n",
       "    <tr>\n",
       "      <th>2</th>\n",
       "      <td>00013b17ad220c46</td>\n",
       "      <td>\" \\n\\n == Sources == \\n\\n * Zawe Ashton on Lap...</td>\n",
       "    </tr>\n",
       "    <tr>\n",
       "      <th>3</th>\n",
       "      <td>00017563c3f7919a</td>\n",
       "      <td>:If you have a look back at the source, the in...</td>\n",
       "    </tr>\n",
       "    <tr>\n",
       "      <th>4</th>\n",
       "      <td>00017695ad8997eb</td>\n",
       "      <td>I don't anonymously edit articles at all.</td>\n",
       "    </tr>\n",
       "  </tbody>\n",
       "</table>\n",
       "</div>"
      ],
      "text/plain": [
       "                 id                                       comment_text\n",
       "0  00001cee341fdb12  Yo bitch Ja Rule is more succesful then you'll...\n",
       "1  0000247867823ef7  == From RfC == \\n\\n The title is fine as it is...\n",
       "2  00013b17ad220c46  \" \\n\\n == Sources == \\n\\n * Zawe Ashton on Lap...\n",
       "3  00017563c3f7919a  :If you have a look back at the source, the in...\n",
       "4  00017695ad8997eb          I don't anonymously edit articles at all."
      ]
     },
     "execution_count": 8,
     "metadata": {},
     "output_type": "execute_result"
    }
   ],
   "source": [
    "test = pd.read_csv('./jigsaw-toxic-comment-classification-challenge/test.csv', nrows = 100)\n",
    "test.head()"
   ]
  },
  {
   "cell_type": "code",
   "execution_count": 9,
   "metadata": {},
   "outputs": [
    {
     "data": {
      "text/html": [
       "<div>\n",
       "<style scoped>\n",
       "    .dataframe tbody tr th:only-of-type {\n",
       "        vertical-align: middle;\n",
       "    }\n",
       "\n",
       "    .dataframe tbody tr th {\n",
       "        vertical-align: top;\n",
       "    }\n",
       "\n",
       "    .dataframe thead th {\n",
       "        text-align: right;\n",
       "    }\n",
       "</style>\n",
       "<table border=\"1\" class=\"dataframe\">\n",
       "  <thead>\n",
       "    <tr style=\"text-align: right;\">\n",
       "      <th></th>\n",
       "      <th>id</th>\n",
       "      <th>toxic</th>\n",
       "      <th>severe_toxic</th>\n",
       "      <th>obscene</th>\n",
       "      <th>threat</th>\n",
       "      <th>insult</th>\n",
       "      <th>identity_hate</th>\n",
       "    </tr>\n",
       "  </thead>\n",
       "  <tbody>\n",
       "    <tr>\n",
       "      <th>0</th>\n",
       "      <td>00001cee341fdb12</td>\n",
       "      <td>-1</td>\n",
       "      <td>-1</td>\n",
       "      <td>-1</td>\n",
       "      <td>-1</td>\n",
       "      <td>-1</td>\n",
       "      <td>-1</td>\n",
       "    </tr>\n",
       "    <tr>\n",
       "      <th>1</th>\n",
       "      <td>0000247867823ef7</td>\n",
       "      <td>-1</td>\n",
       "      <td>-1</td>\n",
       "      <td>-1</td>\n",
       "      <td>-1</td>\n",
       "      <td>-1</td>\n",
       "      <td>-1</td>\n",
       "    </tr>\n",
       "    <tr>\n",
       "      <th>2</th>\n",
       "      <td>00013b17ad220c46</td>\n",
       "      <td>-1</td>\n",
       "      <td>-1</td>\n",
       "      <td>-1</td>\n",
       "      <td>-1</td>\n",
       "      <td>-1</td>\n",
       "      <td>-1</td>\n",
       "    </tr>\n",
       "    <tr>\n",
       "      <th>3</th>\n",
       "      <td>00017563c3f7919a</td>\n",
       "      <td>-1</td>\n",
       "      <td>-1</td>\n",
       "      <td>-1</td>\n",
       "      <td>-1</td>\n",
       "      <td>-1</td>\n",
       "      <td>-1</td>\n",
       "    </tr>\n",
       "    <tr>\n",
       "      <th>4</th>\n",
       "      <td>00017695ad8997eb</td>\n",
       "      <td>-1</td>\n",
       "      <td>-1</td>\n",
       "      <td>-1</td>\n",
       "      <td>-1</td>\n",
       "      <td>-1</td>\n",
       "      <td>-1</td>\n",
       "    </tr>\n",
       "  </tbody>\n",
       "</table>\n",
       "</div>"
      ],
      "text/plain": [
       "                 id  toxic  severe_toxic  obscene  threat  insult  \\\n",
       "0  00001cee341fdb12     -1            -1       -1      -1      -1   \n",
       "1  0000247867823ef7     -1            -1       -1      -1      -1   \n",
       "2  00013b17ad220c46     -1            -1       -1      -1      -1   \n",
       "3  00017563c3f7919a     -1            -1       -1      -1      -1   \n",
       "4  00017695ad8997eb     -1            -1       -1      -1      -1   \n",
       "\n",
       "   identity_hate  \n",
       "0             -1  \n",
       "1             -1  \n",
       "2             -1  \n",
       "3             -1  \n",
       "4             -1  "
      ]
     },
     "execution_count": 9,
     "metadata": {},
     "output_type": "execute_result"
    }
   ],
   "source": [
    "test_labels = pd.read_csv('./jigsaw-toxic-comment-classification-challenge/test_labels.csv', nrows = 10)\n",
    "test_labels.head()"
   ]
  },
  {
   "cell_type": "code",
   "execution_count": 10,
   "metadata": {},
   "outputs": [
    {
     "data": {
      "text/html": [
       "<div>\n",
       "<style scoped>\n",
       "    .dataframe tbody tr th:only-of-type {\n",
       "        vertical-align: middle;\n",
       "    }\n",
       "\n",
       "    .dataframe tbody tr th {\n",
       "        vertical-align: top;\n",
       "    }\n",
       "\n",
       "    .dataframe thead th {\n",
       "        text-align: right;\n",
       "    }\n",
       "</style>\n",
       "<table border=\"1\" class=\"dataframe\">\n",
       "  <thead>\n",
       "    <tr style=\"text-align: right;\">\n",
       "      <th></th>\n",
       "      <th>id</th>\n",
       "      <th>toxic</th>\n",
       "      <th>severe_toxic</th>\n",
       "      <th>obscene</th>\n",
       "      <th>threat</th>\n",
       "      <th>insult</th>\n",
       "      <th>identity_hate</th>\n",
       "    </tr>\n",
       "  </thead>\n",
       "  <tbody>\n",
       "    <tr>\n",
       "      <th>0</th>\n",
       "      <td>00001cee341fdb12</td>\n",
       "      <td>0.5</td>\n",
       "      <td>0.5</td>\n",
       "      <td>0.5</td>\n",
       "      <td>0.5</td>\n",
       "      <td>0.5</td>\n",
       "      <td>0.5</td>\n",
       "    </tr>\n",
       "    <tr>\n",
       "      <th>1</th>\n",
       "      <td>0000247867823ef7</td>\n",
       "      <td>0.5</td>\n",
       "      <td>0.5</td>\n",
       "      <td>0.5</td>\n",
       "      <td>0.5</td>\n",
       "      <td>0.5</td>\n",
       "      <td>0.5</td>\n",
       "    </tr>\n",
       "    <tr>\n",
       "      <th>2</th>\n",
       "      <td>00013b17ad220c46</td>\n",
       "      <td>0.5</td>\n",
       "      <td>0.5</td>\n",
       "      <td>0.5</td>\n",
       "      <td>0.5</td>\n",
       "      <td>0.5</td>\n",
       "      <td>0.5</td>\n",
       "    </tr>\n",
       "    <tr>\n",
       "      <th>3</th>\n",
       "      <td>00017563c3f7919a</td>\n",
       "      <td>0.5</td>\n",
       "      <td>0.5</td>\n",
       "      <td>0.5</td>\n",
       "      <td>0.5</td>\n",
       "      <td>0.5</td>\n",
       "      <td>0.5</td>\n",
       "    </tr>\n",
       "    <tr>\n",
       "      <th>4</th>\n",
       "      <td>00017695ad8997eb</td>\n",
       "      <td>0.5</td>\n",
       "      <td>0.5</td>\n",
       "      <td>0.5</td>\n",
       "      <td>0.5</td>\n",
       "      <td>0.5</td>\n",
       "      <td>0.5</td>\n",
       "    </tr>\n",
       "  </tbody>\n",
       "</table>\n",
       "</div>"
      ],
      "text/plain": [
       "                 id  toxic  severe_toxic  obscene  threat  insult  \\\n",
       "0  00001cee341fdb12    0.5           0.5      0.5     0.5     0.5   \n",
       "1  0000247867823ef7    0.5           0.5      0.5     0.5     0.5   \n",
       "2  00013b17ad220c46    0.5           0.5      0.5     0.5     0.5   \n",
       "3  00017563c3f7919a    0.5           0.5      0.5     0.5     0.5   \n",
       "4  00017695ad8997eb    0.5           0.5      0.5     0.5     0.5   \n",
       "\n",
       "   identity_hate  \n",
       "0            0.5  \n",
       "1            0.5  \n",
       "2            0.5  \n",
       "3            0.5  \n",
       "4            0.5  "
      ]
     },
     "execution_count": 10,
     "metadata": {},
     "output_type": "execute_result"
    }
   ],
   "source": [
    "submission = pd.read_csv('./jigsaw-toxic-comment-classification-challenge/sample_submission.csv', nrows = 10)\n",
    "submission.head()"
   ]
  },
  {
   "cell_type": "markdown",
   "metadata": {},
   "source": [
    "# 3.Summerize data\n",
    "## 3.1 Descriptive statistics"
   ]
  },
  {
   "cell_type": "code",
   "execution_count": 11,
   "metadata": {},
   "outputs": [
    {
     "data": {
      "text/plain": [
       "id               0\n",
       "comment_text     0\n",
       "toxic            0\n",
       "severe_toxic     0\n",
       "obscene          0\n",
       "threat           0\n",
       "insult           0\n",
       "identity_hate    0\n",
       "dtype: int64"
      ]
     },
     "execution_count": 11,
     "metadata": {},
     "output_type": "execute_result"
    }
   ],
   "source": [
    "# Missing values\n",
    "train.isnull().sum()"
   ]
  },
  {
   "cell_type": "code",
   "execution_count": 12,
   "metadata": {},
   "outputs": [
    {
     "data": {
      "text/plain": [
       "id              0\n",
       "comment_text    0\n",
       "dtype: int64"
      ]
     },
     "execution_count": 12,
     "metadata": {},
     "output_type": "execute_result"
    }
   ],
   "source": [
    "test.isnull().sum()"
   ]
  },
  {
   "cell_type": "code",
   "execution_count": 13,
   "metadata": {},
   "outputs": [
    {
     "data": {
      "text/html": [
       "<div>\n",
       "<style scoped>\n",
       "    .dataframe tbody tr th:only-of-type {\n",
       "        vertical-align: middle;\n",
       "    }\n",
       "\n",
       "    .dataframe tbody tr th {\n",
       "        vertical-align: top;\n",
       "    }\n",
       "\n",
       "    .dataframe thead th {\n",
       "        text-align: right;\n",
       "    }\n",
       "</style>\n",
       "<table border=\"1\" class=\"dataframe\">\n",
       "  <thead>\n",
       "    <tr style=\"text-align: right;\">\n",
       "      <th></th>\n",
       "      <th>counts</th>\n",
       "    </tr>\n",
       "  </thead>\n",
       "  <tbody>\n",
       "    <tr>\n",
       "      <th>toxic</th>\n",
       "      <td>20</td>\n",
       "    </tr>\n",
       "    <tr>\n",
       "      <th>insult</th>\n",
       "      <td>12</td>\n",
       "    </tr>\n",
       "    <tr>\n",
       "      <th>obscene</th>\n",
       "      <td>11</td>\n",
       "    </tr>\n",
       "    <tr>\n",
       "      <th>severe_toxic</th>\n",
       "      <td>3</td>\n",
       "    </tr>\n",
       "    <tr>\n",
       "      <th>identity_hate</th>\n",
       "      <td>3</td>\n",
       "    </tr>\n",
       "    <tr>\n",
       "      <th>threat</th>\n",
       "      <td>2</td>\n",
       "    </tr>\n",
       "  </tbody>\n",
       "</table>\n",
       "</div>"
      ],
      "text/plain": [
       "               counts\n",
       "toxic              20\n",
       "insult             12\n",
       "obscene            11\n",
       "severe_toxic        3\n",
       "identity_hate       3\n",
       "threat              2"
      ]
     },
     "execution_count": 13,
     "metadata": {},
     "output_type": "execute_result"
    }
   ],
   "source": [
    "# 太好了！我们没有缺失的商品了！\n",
    "# 训练集和测试标签中每个类的分布\n",
    "# 让我们检查一下在我们的训练数据中每个类别有多少\n",
    "\n",
    "# 从训练数据集中删除 'id' 和 'comment_text' 列，得到一个新的DataFrame对象 df_train，其中包含了除了这两列之外的所有列。\n",
    "df_train = train.drop(['id', 'comment_text'], axis = 1)\n",
    "# 对 df_train 的每列进行求和操作，得到每个标签的计数值。这将返回一个Series对象，其中索引是标签列的名称，值是对应列的计数值。\n",
    "label_counts = df_train.sum()\n",
    "# 将计数值转换为DataFrame对象，并将列名设置为 'counts'。\n",
    "df_counts = pd.DataFrame(label_counts)\n",
    "# 将列名 0 更改为 'counts'。\n",
    "df_counts.rename(columns = {0:'counts'}, inplace = True)\n",
    "# 对DataFrame对象 df_counts 按计数值从大到小进行排序。\n",
    "df_counts = df_counts.sort_values('counts', ascending = False)\n",
    "df_counts "
   ]
  },
  {
   "cell_type": "code",
   "execution_count": 14,
   "metadata": {},
   "outputs": [
    {
     "data": {
      "image/png": "[encoded data removed]",
      "text/plain": [
       "<Figure size 800x400 with 1 Axes>"
      ]
     },
     "metadata": {},
     "output_type": "display_data"
    }
   ],
   "source": [
    "# 创建了一个新的图形对象 fig 和一个坐标轴对象 ax。figsize=(8, 4) 指定了图形的尺寸为宽度 8 英寸、高度 4 英寸。\n",
    "fig, ax = plt.subplots(figsize = (8,4))\n",
    "# 创建了一个垂直条形图。x=df_counts.index 指定了 x 轴的数据，即标签列的名称，\n",
    "# y=df_counts['counts'] 指定了 y 轴的数据，即标签列的计数值。函数的返回值 p 是一个表示绘制的条形图的对象。\n",
    "p = sns.barplot(x=df_counts.index, y=df_counts['counts'])\n",
    "# 使用 plt.xticks() 函数旋转 x 轴刻度标签，使其以 60 度的角度显示。\n",
    "x = plt.xticks(rotation = 60) \n",
    "# 设置图形的标题。标题文本由字符串 'Toxic comment counts in '、训练数据集的样本数 len(df_train) 和字符串 ' samples of data' 组成。\n",
    "# weight='bold' 和 fontsize=18 设置标题的字体样式和大小，y=1.05 控制标题的垂直位置。\n",
    "ax.set_title('Toxic comment counts in '+ str(len(df_train))+ ' samples of data', weight = 'bold', fontsize = 18, y = 1.05)\n",
    "# 将 y 轴的标签设为空字符串，即不显示 y 轴的标签。\n",
    "x = ax.set_ylabel('')"
   ]
  },
  {
   "cell_type": "code",
   "execution_count": 15,
   "metadata": {},
   "outputs": [
    {
     "data": {
      "text/plain": [
       "toxic            10.0\n",
       "severe_toxic      1.5\n",
       "obscene           5.5\n",
       "threat            1.0\n",
       "insult            6.0\n",
       "identity_hate     1.5\n",
       "dtype: float64"
      ]
     },
     "execution_count": 15,
     "metadata": {},
     "output_type": "execute_result"
    }
   ],
   "source": [
    "# 相对百分比让我们更好地理解。\n",
    "# 将每个标签的计数值除以样本数，并乘以 100，得到了每个标签的相对百分比\n",
    "labels = np.round(df_train.sum()/len(df_train)*100, 1)\n",
    "labels"
   ]
  },
  {
   "cell_type": "code",
   "execution_count": 16,
   "metadata": {},
   "outputs": [
    {
     "data": {
      "text/html": [
       "<div>\n",
       "<style scoped>\n",
       "    .dataframe tbody tr th:only-of-type {\n",
       "        vertical-align: middle;\n",
       "    }\n",
       "\n",
       "    .dataframe tbody tr th {\n",
       "        vertical-align: top;\n",
       "    }\n",
       "\n",
       "    .dataframe thead th {\n",
       "        text-align: right;\n",
       "    }\n",
       "</style>\n",
       "<table border=\"1\" class=\"dataframe\">\n",
       "  <thead>\n",
       "    <tr style=\"text-align: right;\">\n",
       "      <th></th>\n",
       "      <th>-1</th>\n",
       "      <th>0</th>\n",
       "    </tr>\n",
       "  </thead>\n",
       "  <tbody>\n",
       "    <tr>\n",
       "      <th>proportion</th>\n",
       "      <td>80.0</td>\n",
       "      <td>20.0</td>\n",
       "    </tr>\n",
       "    <tr>\n",
       "      <th>proportion</th>\n",
       "      <td>80.0</td>\n",
       "      <td>20.0</td>\n",
       "    </tr>\n",
       "    <tr>\n",
       "      <th>proportion</th>\n",
       "      <td>80.0</td>\n",
       "      <td>20.0</td>\n",
       "    </tr>\n",
       "    <tr>\n",
       "      <th>proportion</th>\n",
       "      <td>80.0</td>\n",
       "      <td>20.0</td>\n",
       "    </tr>\n",
       "    <tr>\n",
       "      <th>proportion</th>\n",
       "      <td>80.0</td>\n",
       "      <td>20.0</td>\n",
       "    </tr>\n",
       "    <tr>\n",
       "      <th>proportion</th>\n",
       "      <td>80.0</td>\n",
       "      <td>20.0</td>\n",
       "    </tr>\n",
       "  </tbody>\n",
       "</table>\n",
       "</div>"
      ],
      "text/plain": [
       "              -1     0\n",
       "proportion  80.0  20.0\n",
       "proportion  80.0  20.0\n",
       "proportion  80.0  20.0\n",
       "proportion  80.0  20.0\n",
       "proportion  80.0  20.0\n",
       "proportion  80.0  20.0"
      ]
     },
     "execution_count": 16,
     "metadata": {},
     "output_type": "execute_result"
    }
   ],
   "source": [
    "# 从测试数据集中删除 'id' 列，并将结果存储在 df_test_labels 变量中\n",
    "df_test_labels = test_labels.drop(['id'], axis = 1)\n",
    "# 对 df_test_labels 的每一列应用 count_values 函数，从而计算每个标签列的相对百分比。\n",
    "count_values = lambda x: np.round(df_test_labels[x].value_counts(normalize = True)*100, 1)\n",
    "# 使用 pd.DataFrame() 将计算结果转换为一个DataFrame对象，其中每一行表示一个标签列，每一列表示相对百分比。\n",
    "pd.DataFrame([count_values(col) for col in df_test_labels.columns.tolist()])"
   ]
  },
  {
   "cell_type": "code",
   "execution_count": 17,
   "metadata": {},
   "outputs": [
    {
     "data": {
      "text/plain": [
       "((200, 8), (100, 2))"
      ]
     },
     "execution_count": 17,
     "metadata": {},
     "output_type": "execute_result"
    }
   ],
   "source": [
    "train.shape, test.shape"
   ]
  },
  {
   "cell_type": "markdown",
   "metadata": {},
   "source": [
    "# 4.Prepare Data\n",
    "## 4.1 Data cleaning\n",
    "我们需要对数据进行清理、标记化并将其转换为张量。  \n",
    "下面的函数可以帮助我们：  \n",
    "    删除超链接、标点符号和数字  \n",
    "    标记化  \n",
    "我们跳过将其全部更改为小写字母，并保持字母对大小写敏感。评论BAD！！其中的负面情绪比坏情绪更强烈！！  \n",
    "我们也不会删除停用词，因为对于像BERT和ROBERTA这样的上下文模型，最好不要处理删除停用词的文本。这些模型是用停用词预先训练的：如果你删除停用词，你的模型可能会丢失上下文。词干和词法化预处理技术也是如此。所以我们也跳过它们！"
   ]
  },
  {
   "cell_type": "code",
   "execution_count": 18,
   "metadata": {},
   "outputs": [],
   "source": [
    "# text preprocessing helper functions [1]\n",
    "\n",
    "def clean_text(text):\n",
    "    '''Make text lowercase, remove text in square brackets,remove links,remove punctuation\n",
    "    and remove words containing numbers.'''\n",
    "    #text = text.lower()\n",
    "    \n",
    "    #pattern = [zero or more character]\n",
    "    text = re.sub('\\[.*?\\]', '', text)\n",
    "    \n",
    "    #pattern = with or without(http),://, one or more non-white space character, OR www, .,one or more non-white space character\n",
    "    text = re.sub('https?://\\S+|www\\.\\S+', '', text)\n",
    "    \n",
    "    #pattern = <, zero or more characters, >, (one or more occurance of >)\n",
    "    text = re.sub('<.*?>+', '', text)\n",
    "    \n",
    "    #pattern = any punctionation\n",
    "    text = re.sub('[%s]' % re.escape(string.punctuation), '', text)\n",
    "    \n",
    "    #pattern = any new line\n",
    "    text = re.sub('\\n', '', text)\n",
    "    \n",
    "    #pattern = any from[a-zA-Z0-9_], any from[0-9], any from [a-zA-Z0-9_]\n",
    "    text = re.sub('\\w*\\d\\w*', '', text)\n",
    "    return text"
   ]
  },
  {
   "cell_type": "code",
   "execution_count": 19,
   "metadata": {},
   "outputs": [
    {
     "name": "stdout",
     "output_type": "stream",
     "text": [
      "CPU times: user 60.8 ms, sys: 0 ns, total: 60.8 ms\n",
      "Wall time: 59.7 ms\n"
     ]
    }
   ],
   "source": [
    "%%time\n",
    "train['clean_text'] = train['comment_text'].apply(str).apply(lambda x: clean_text(x))\n",
    "test['clean_text'] = test['comment_text'].apply(str).apply(lambda x: clean_text(x))\n",
    "# %%time 是一种单元魔术命令，用于测量多行代码（代码单元）的执行时间。它会在执行整个代码单元后返回执行时间的结果。\n",
    "# 分别访问训练数据集和测试数据集中的 'comment_text' 列，这里使用 apply(str) 将列中的元素转换为字符串类型。\n",
    "# 对每个字符串元素应用一个匿名函数。这个匿名函数调用了名为 clean_text 的函数，并将每个字符串作为参数传递给它。"
   ]
  },
  {
   "cell_type": "markdown",
   "metadata": {},
   "source": [
    "## 4.2 Dataset and Dataloader"
   ]
  },
  {
   "cell_type": "code",
   "execution_count": 20,
   "metadata": {},
   "outputs": [
    {
     "data": {
      "text/plain": [
       "Index([0, 1, 2, 3, 4, 0, 1, 2, 3, 4,\n",
       "       ...\n",
       "       0, 1, 2, 3, 4, 0, 1, 2, 3, 4],\n",
       "      dtype='int64', length=200)"
      ]
     },
     "execution_count": 20,
     "metadata": {},
     "output_type": "execute_result"
    }
   ],
   "source": [
    "# 我们使用20%的训练数据作为验证集。\n",
    "kfold = 5\n",
    "# 使用 train.index % kfold 计算每个样本在数据集中的索引值与 kfold 取模的结果。\n",
    "# 这个操作会生成一个包含与数据集索引对应的折叠编号的 Series 对象。\n",
    "train['kfold'] = train.index % kfold\n",
    "# train.index 表示训练数据集的索引，而 % 是取模运算符，用于计算索引与 kfold 的模。\n",
    "# 这样，对于索引为 i 的样本，i % kfold 的结果将是 0 到 4 之间的整数，对应着 5 个折叠中的一个。\n",
    "train.index % kfold"
   ]
  },
  {
   "cell_type": "code",
   "execution_count": 21,
   "metadata": {},
   "outputs": [
    {
     "data": {
      "text/html": [
       "<div>\n",
       "<style scoped>\n",
       "    .dataframe tbody tr th:only-of-type {\n",
       "        vertical-align: middle;\n",
       "    }\n",
       "\n",
       "    .dataframe tbody tr th {\n",
       "        vertical-align: top;\n",
       "    }\n",
       "\n",
       "    .dataframe thead th {\n",
       "        text-align: right;\n",
       "    }\n",
       "</style>\n",
       "<table border=\"1\" class=\"dataframe\">\n",
       "  <thead>\n",
       "    <tr style=\"text-align: right;\">\n",
       "      <th></th>\n",
       "      <th>id</th>\n",
       "      <th>comment_text</th>\n",
       "      <th>toxic</th>\n",
       "      <th>severe_toxic</th>\n",
       "      <th>obscene</th>\n",
       "      <th>threat</th>\n",
       "      <th>insult</th>\n",
       "      <th>identity_hate</th>\n",
       "      <th>clean_text</th>\n",
       "      <th>kfold</th>\n",
       "    </tr>\n",
       "  </thead>\n",
       "  <tbody>\n",
       "    <tr>\n",
       "      <th>0</th>\n",
       "      <td>000103f0d9cfb60f</td>\n",
       "      <td>D'aww! He matches this background colour I'm s...</td>\n",
       "      <td>0</td>\n",
       "      <td>0</td>\n",
       "      <td>0</td>\n",
       "      <td>0</td>\n",
       "      <td>0</td>\n",
       "      <td>0</td>\n",
       "      <td>Daww He matches this background colour Im seem...</td>\n",
       "      <td>1</td>\n",
       "    </tr>\n",
       "    <tr>\n",
       "      <th>1</th>\n",
       "      <td>000113f07ec002fd</td>\n",
       "      <td>Hey man, I'm really not trying to edit war. It...</td>\n",
       "      <td>0</td>\n",
       "      <td>0</td>\n",
       "      <td>0</td>\n",
       "      <td>0</td>\n",
       "      <td>0</td>\n",
       "      <td>0</td>\n",
       "      <td>Hey man Im really not trying to edit war Its j...</td>\n",
       "      <td>2</td>\n",
       "    </tr>\n",
       "    <tr>\n",
       "      <th>2</th>\n",
       "      <td>0001b41b1c6bb37e</td>\n",
       "      <td>\"\\nMore\\nI can't make any real suggestions on ...</td>\n",
       "      <td>0</td>\n",
       "      <td>0</td>\n",
       "      <td>0</td>\n",
       "      <td>0</td>\n",
       "      <td>0</td>\n",
       "      <td>0</td>\n",
       "      <td>MoreI cant make any real suggestions on improv...</td>\n",
       "      <td>3</td>\n",
       "    </tr>\n",
       "    <tr>\n",
       "      <th>3</th>\n",
       "      <td>0001d958c54c6e35</td>\n",
       "      <td>You, sir, are my hero. Any chance you remember...</td>\n",
       "      <td>0</td>\n",
       "      <td>0</td>\n",
       "      <td>0</td>\n",
       "      <td>0</td>\n",
       "      <td>0</td>\n",
       "      <td>0</td>\n",
       "      <td>You sir are my hero Any chance you remember wh...</td>\n",
       "      <td>4</td>\n",
       "    </tr>\n",
       "    <tr>\n",
       "      <th>4</th>\n",
       "      <td>0002bcb3da6cb337</td>\n",
       "      <td>COCKSUCKER BEFORE YOU PISS AROUND ON MY WORK</td>\n",
       "      <td>1</td>\n",
       "      <td>1</td>\n",
       "      <td>1</td>\n",
       "      <td>0</td>\n",
       "      <td>1</td>\n",
       "      <td>0</td>\n",
       "      <td>COCKSUCKER BEFORE YOU PISS AROUND ON MY WORK</td>\n",
       "      <td>1</td>\n",
       "    </tr>\n",
       "  </tbody>\n",
       "</table>\n",
       "</div>"
      ],
      "text/plain": [
       "                 id                                       comment_text  toxic  \\\n",
       "0  000103f0d9cfb60f  D'aww! He matches this background colour I'm s...      0   \n",
       "1  000113f07ec002fd  Hey man, I'm really not trying to edit war. It...      0   \n",
       "2  0001b41b1c6bb37e  \"\\nMore\\nI can't make any real suggestions on ...      0   \n",
       "3  0001d958c54c6e35  You, sir, are my hero. Any chance you remember...      0   \n",
       "4  0002bcb3da6cb337       COCKSUCKER BEFORE YOU PISS AROUND ON MY WORK      1   \n",
       "\n",
       "   severe_toxic  obscene  threat  insult  identity_hate  \\\n",
       "0             0        0       0       0              0   \n",
       "1             0        0       0       0              0   \n",
       "2             0        0       0       0              0   \n",
       "3             0        0       0       0              0   \n",
       "4             1        1       0       1              0   \n",
       "\n",
       "                                          clean_text  kfold  \n",
       "0  Daww He matches this background colour Im seem...      1  \n",
       "1  Hey man Im really not trying to edit war Its j...      2  \n",
       "2  MoreI cant make any real suggestions on improv...      3  \n",
       "3  You sir are my hero Any chance you remember wh...      4  \n",
       "4       COCKSUCKER BEFORE YOU PISS AROUND ON MY WORK      1  "
      ]
     },
     "execution_count": 21,
     "metadata": {},
     "output_type": "execute_result"
    }
   ],
   "source": [
    "# reset_index创建一个名为'index'的列，并将旧的索引值保存在其中并更新index的值。\n",
    "# drop=True删除具有旧索引值的列“索引”。\n",
    "p_train = train[train[\"kfold\"] != 0].reset_index(drop = True)\n",
    "p_valid = train[train[\"kfold\"] == 0].reset_index(drop = True)\n",
    "\n",
    "p_train.head()\n",
    "# p_valid.head()"
   ]
  },
  {
   "cell_type": "code",
   "execution_count": 22,
   "metadata": {},
   "outputs": [],
   "source": [
    "from transformers import BertTokenizer, BertModel\n",
    "# 这行代码创建了一个BertTokenizer对象，并从预训练的BERT模型bert-base-cased加载了相应的词汇表和分词器配置。\n",
    "# bert-base-cased是一个预训练的BERT模型，其中的cased表示该模型区分大小写。\n",
    "tokenizer = BertTokenizer.from_pretrained('./bert-base-cased')"
   ]
  },
  {
   "cell_type": "code",
   "execution_count": 23,
   "metadata": {},
   "outputs": [
    {
     "name": "stderr",
     "output_type": "stream",
     "text": [
      "  0%|          | 0/160 [00:00<?, ?it/s]"
     ]
    },
    {
     "name": "stderr",
     "output_type": "stream",
     "text": [
      "100%|██████████| 160/160 [00:00<00:00, 310.07it/s]"
     ]
    },
    {
     "name": "stdout",
     "output_type": "stream",
     "text": [
      "CPU times: user 516 ms, sys: 7.33 ms, total: 524 ms\n",
      "Wall time: 524 ms\n"
     ]
    },
    {
     "name": "stderr",
     "output_type": "stream",
     "text": [
      "\n"
     ]
    }
   ],
   "source": [
    "%%time\n",
    "# 创建一个空列表senten_len，用于存储句子的长度。\n",
    "senten_len = []\n",
    "# 使用for循环遍历p_train['clean_text']数据集中的每个句子。\n",
    "# tqdm是一个用于显示进度条的库，它可以让你在处理大量数据时了解代码的执行进度。\n",
    "for sentence in tqdm(p_train['clean_text']):\n",
    "    # 使用tokenizer.encode_plus()方法将当前句子sentence进行编码，获取其对应的输入标记（token）的ID序列。\n",
    "    token_words = tokenizer.encode_plus(sentence)['input_ids']\n",
    "    # 将当前句子的标记序列的长度添加到senten_len列表中。len(token_words)返回标记序列的长度，即句子的长度。\n",
    "    senten_len.append(len(token_words))"
   ]
  },
  {
   "cell_type": "code",
   "execution_count": 24,
   "metadata": {},
   "outputs": [
    {
     "data": {
      "text/plain": [
       "Text(0.5, 0, 'Tocken count')"
      ]
     },
     "execution_count": 24,
     "metadata": {},
     "output_type": "execute_result"
    },
    {
     "data": {
      "image/png": "[encoded data removed]",
      "text/plain": [
       "<Figure size 640x480 with 1 Axes>"
      ]
     },
     "metadata": {},
     "output_type": "display_data"
    }
   ],
   "source": [
    "# 我们将看看标记化评论的长度分布，以便了解如何为标记化评论设置max_length。\n",
    "#  使用Seaborn库的distplot()函数绘制标记化评论长度（即句子长度）的分布图。senten_len是包含句子长度的列表。\n",
    "sns.distplot(senten_len)\n",
    "# 使用Matplotlib库的xlim()函数设置x轴的范围。在这里，范围被设置为0到300，以便更清楚地观察长度在该范围内的句子分布情况。\n",
    "plt.xlim([0, 300])\n",
    "# 使用Matplotlib库的xlabel()函数设置x轴的标签为\"Token count\"，表示标记（token）的数量。\n",
    "plt.xlabel('Tocken count')"
   ]
  },
  {
   "cell_type": "code",
   "execution_count": 25,
   "metadata": {},
   "outputs": [],
   "source": [
    "# 200似乎是个不错的尺寸，继续前进。\n",
    "max_len = 200"
   ]
  },
  {
   "cell_type": "code",
   "execution_count": 26,
   "metadata": {},
   "outputs": [],
   "source": [
    "# 我们定义了一个类BertDataSet，其中Dataset是超类，并在其中覆盖theinit_、len和getitem__函数。\n",
    "# 它将获得评论列表和相关的有毒标签（在本例中为6个标签），并创建标记ID和注意力掩码来区分评论和零填充。\n",
    "# torch.tenor vs np.ndarray：\n",
    "# 如果您只对矩阵执行数学运算的有效和简单的方法感兴趣，np.ndarray或torch.tenor可以互换使用。\n",
    "# 然而，torch.tenors被设计用于梯度下降优化的上下文中，因此它们不仅包含具有数值的张量，而且（更重要的是）包含导致这些值的计算图。\n",
    "# 然后使用该计算图（使用导数的链式规则）来计算损失函数w.r.t的导数，每个自变量用于计算损失。\n",
    "# np.ndarray对象没有这个额外的“计算图”层，因此，在将torch.tenor转换为np.ndarray时，您必须使用detach()命令显式删除张量的计算图。\n",
    "\n",
    "# 定义了一个名为BertDataSet的类，并继承了torch.utils.data.Dataset类。\n",
    "# 这意味着BertDataSet类是一个PyTorch数据集类的子类，它需要实现__len__和__getitem__方法。\n",
    "class BertDataSet(Dataset):\n",
    "\n",
    "    # BertDataSet类的初始化方法。它接受两个参数：sentences是一个包含句子的列表或数组，toxic_labels是一个包含对应句子的标签的矩阵。\n",
    "    def __init__(self, sentences, toxic_labels):\n",
    "        self.sentences = sentences\n",
    "        #target is a matrix with shape [#1 x #6(toxic, obscene, etc)]\n",
    "        self.targets = toxic_labels.to_numpy()\n",
    "\n",
    "    # 返回数据集中样本的数量，即句子的数量。\n",
    "    def __len__(self):\n",
    "        return len(self.sentences)\n",
    "    \n",
    "    # 它接受一个索引idx，并返回对应索引处的样本。\n",
    "    def __getitem__(self, idx):\n",
    "        sentence = self.sentences[idx]\n",
    "        # 使用BERT分词器tokenizer对句子进行编码和处理。encode_plus()方法将句子转换为BERT模型需要的输入表示形式，\n",
    "        # 并返回一个包含输入标记（token）ID、注意力掩码（attention mask）等信息的字典。\n",
    "        bert_senten = tokenizer.encode_plus(sentence, \n",
    "                                            add_special_tokens = True, # [CLS],[SEP]\n",
    "                                            max_length = max_len,\n",
    "                                            pad_to_max_length = True,\n",
    "                                            truncation = True,\n",
    "                                            return_attention_mask = True\n",
    "                                             )\n",
    "        # 将输入标记（token）的ID序列转换为torch.tensor张量，并指定数据类型为torch.long。\n",
    "        ids = torch.tensor(bert_senten['input_ids'], dtype = torch.long)\n",
    "        # 将注意力掩码（attention mask）序列转换为torch.tensor张量，并指定数据类型为torch.long。\n",
    "        mask = torch.tensor(bert_senten['attention_mask'], dtype = torch.long)\n",
    "        # 获取在索引idx处的标签，并将其转换为torch.tensor张量，并指定数据类型为torch.float。\n",
    "        toxic_label = torch.tensor(self.targets[idx], dtype = torch.float)\n",
    "        \n",
    "        # 返回一个字典，包含输入标记（token）ID、注意力掩码（attention mask）和对应的标签。这个字典将作为一个样本被返回给模型进行训练或推理。\n",
    "        return {\n",
    "            'ids' : ids,\n",
    "            'mask' : mask,\n",
    "            'toxic_label':toxic_label\n",
    "        }"
   ]
  },
  {
   "cell_type": "code",
   "execution_count": 27,
   "metadata": {},
   "outputs": [],
   "source": [
    "train_dataset = BertDataSet(p_train['clean_text'], p_train[['toxic', 'severe_toxic','obscene', 'threat', 'insult','identity_hate']])\n",
    "valid_dataset = BertDataSet(p_valid['clean_text'], p_valid[['toxic', 'severe_toxic','obscene', 'threat', 'insult','identity_hate']])"
   ]
  },
  {
   "cell_type": "code",
   "execution_count": 28,
   "metadata": {},
   "outputs": [
    {
     "name": "stdout",
     "output_type": "stream",
     "text": [
      "{'ids': tensor([  101, 10136,  2246,  2246,  1124,  2697,  1142,  3582,  5922,   146,\n",
      "         1306,  9321,  5342,  1114,  5749,  2037,  1356, 11390,   102,     0,\n",
      "            0,     0,     0,     0,     0,     0,     0,     0,     0,     0,\n",
      "            0,     0,     0,     0,     0,     0,     0,     0,     0,     0,\n",
      "            0,     0,     0,     0,     0,     0,     0,     0,     0,     0,\n",
      "            0,     0,     0,     0,     0,     0,     0,     0,     0,     0,\n",
      "            0,     0,     0,     0,     0,     0,     0,     0,     0,     0,\n",
      "            0,     0,     0,     0,     0,     0,     0,     0,     0,     0,\n",
      "            0,     0,     0,     0,     0,     0,     0,     0,     0,     0,\n",
      "            0,     0,     0,     0,     0,     0,     0,     0,     0,     0,\n",
      "            0,     0,     0,     0,     0,     0,     0,     0,     0,     0,\n",
      "            0,     0,     0,     0,     0,     0,     0,     0,     0,     0,\n",
      "            0,     0,     0,     0,     0,     0,     0,     0,     0,     0,\n",
      "            0,     0,     0,     0,     0,     0,     0,     0,     0,     0,\n",
      "            0,     0,     0,     0,     0,     0,     0,     0,     0,     0,\n",
      "            0,     0,     0,     0,     0,     0,     0,     0,     0,     0,\n",
      "            0,     0,     0,     0,     0,     0,     0,     0,     0,     0,\n",
      "            0,     0,     0,     0,     0,     0,     0,     0,     0,     0,\n",
      "            0,     0,     0,     0,     0,     0,     0,     0,     0,     0,\n",
      "            0,     0,     0,     0,     0,     0,     0,     0,     0,     0]), 'mask': tensor([1, 1, 1, 1, 1, 1, 1, 1, 1, 1, 1, 1, 1, 1, 1, 1, 1, 1, 1, 0, 0, 0, 0, 0,\n",
      "        0, 0, 0, 0, 0, 0, 0, 0, 0, 0, 0, 0, 0, 0, 0, 0, 0, 0, 0, 0, 0, 0, 0, 0,\n",
      "        0, 0, 0, 0, 0, 0, 0, 0, 0, 0, 0, 0, 0, 0, 0, 0, 0, 0, 0, 0, 0, 0, 0, 0,\n",
      "        0, 0, 0, 0, 0, 0, 0, 0, 0, 0, 0, 0, 0, 0, 0, 0, 0, 0, 0, 0, 0, 0, 0, 0,\n",
      "        0, 0, 0, 0, 0, 0, 0, 0, 0, 0, 0, 0, 0, 0, 0, 0, 0, 0, 0, 0, 0, 0, 0, 0,\n",
      "        0, 0, 0, 0, 0, 0, 0, 0, 0, 0, 0, 0, 0, 0, 0, 0, 0, 0, 0, 0, 0, 0, 0, 0,\n",
      "        0, 0, 0, 0, 0, 0, 0, 0, 0, 0, 0, 0, 0, 0, 0, 0, 0, 0, 0, 0, 0, 0, 0, 0,\n",
      "        0, 0, 0, 0, 0, 0, 0, 0, 0, 0, 0, 0, 0, 0, 0, 0, 0, 0, 0, 0, 0, 0, 0, 0,\n",
      "        0, 0, 0, 0, 0, 0, 0, 0]), 'toxic_label': tensor([0., 0., 0., 0., 0., 0.])}\n"
     ]
    }
   ],
   "source": [
    "# 让我们看看数据集中有什么：\n",
    "for a in train_dataset:\n",
    "    print(a)\n",
    "    break"
   ]
  },
  {
   "cell_type": "code",
   "execution_count": 29,
   "metadata": {},
   "outputs": [],
   "source": [
    "# 现在我们为trainig集和验证集设置批量大小。较大的批量大小有助于加快计算速度。\n",
    "# 然而，结果证实，在给定的计算成本下，使用小批量大小可以实现最佳泛化性能。\n",
    "# 在所有情况下，批量大小为32或更小的情况下都能获得最佳结果。通常小至2或4的小批量大小会提供最佳结果。\n",
    "train_batch = 32\n",
    "valid_batch = 32"
   ]
  },
  {
   "cell_type": "code",
   "execution_count": 30,
   "metadata": {},
   "outputs": [],
   "source": [
    "# 在下面的代码中pin_memory=True to a DataLoader会自动将获取的数据张量放入固定内存，从而能够更快地将数据搬迁到支持CUDA的GPU。\n",
    "# num_workers为正整数将打开具有指定数量的加载器工作进程的多进程数据加载\n",
    "# train_dataset: 训练数据集，即之前创建的train_dataset对象，其中包含了经过处理的训练数据和标签。\n",
    "# batch_size: 批量大小，指定每个批次中包含的样本数量。\n",
    "# pin_memory=True: 设置为True时，将数据存储在固定内存中，可以加速数据传输。\n",
    "# num_workers=4: 指定用于加载数据的子进程数量，这可以加速数据加载过程。\n",
    "# shuffle=True: 设置为True时，每个迭代器返回的批次将是随机排列的，用于在训练过程中对样本进行随机采样。\n",
    "train_dataloader = DataLoader(train_dataset, batch_size = train_batch, pin_memory = True, num_workers = 4, shuffle = True)\n",
    "valid_dataloader = DataLoader(valid_dataset, batch_size = valid_batch, pin_memory = True, num_workers = 4, shuffle = False)"
   ]
  },
  {
   "cell_type": "code",
   "execution_count": 31,
   "metadata": {},
   "outputs": [
    {
     "name": "stdout",
     "output_type": "stream",
     "text": [
      "{'ids': tensor([[  101,  1192,  1169,  ...,     0,     0,     0],\n",
      "        [  101,  1573,  2158,  ...,     0,     0,     0],\n",
      "        [  101, 20173,  4960,  ...,     0,     0,     0],\n",
      "        ...,\n",
      "        [  101,  8790, 16409,  ...,     0,     0,     0],\n",
      "        [  101, 19585, 26918,  ...,  1132,  7173,   102],\n",
      "        [  101,  2181,  1122,  ...,  1775,  3118,   102]]), 'mask': tensor([[1, 1, 1,  ..., 0, 0, 0],\n",
      "        [1, 1, 1,  ..., 0, 0, 0],\n",
      "        [1, 1, 1,  ..., 0, 0, 0],\n",
      "        ...,\n",
      "        [1, 1, 1,  ..., 0, 0, 0],\n",
      "        [1, 1, 1,  ..., 1, 1, 1],\n",
      "        [1, 1, 1,  ..., 1, 1, 1]]), 'toxic_label': tensor([[0., 0., 0., 0., 0., 0.],\n",
      "        [0., 0., 0., 0., 0., 0.],\n",
      "        [0., 0., 0., 0., 0., 0.],\n",
      "        [0., 0., 0., 0., 0., 0.],\n",
      "        [0., 0., 0., 0., 0., 0.],\n",
      "        [0., 0., 0., 0., 0., 0.],\n",
      "        [0., 0., 0., 0., 0., 0.],\n",
      "        [0., 0., 0., 0., 0., 0.],\n",
      "        [1., 1., 1., 0., 1., 0.],\n",
      "        [0., 0., 0., 0., 0., 0.],\n",
      "        [0., 0., 0., 0., 0., 0.],\n",
      "        [0., 0., 0., 0., 0., 0.],\n",
      "        [0., 0., 0., 0., 0., 0.],\n",
      "        [0., 0., 0., 0., 0., 0.],\n",
      "        [0., 0., 0., 0., 0., 0.],\n",
      "        [0., 0., 0., 0., 0., 0.],\n",
      "        [1., 0., 0., 0., 0., 0.],\n",
      "        [0., 0., 0., 0., 0., 0.],\n",
      "        [0., 0., 0., 0., 0., 0.],\n",
      "        [0., 0., 0., 0., 0., 0.],\n",
      "        [0., 0., 0., 0., 0., 0.],\n",
      "        [0., 0., 0., 0., 0., 0.],\n",
      "        [0., 0., 0., 0., 0., 0.],\n",
      "        [0., 0., 0., 0., 0., 0.],\n",
      "        [0., 0., 0., 0., 0., 0.],\n",
      "        [0., 0., 0., 0., 0., 0.],\n",
      "        [0., 0., 0., 0., 0., 0.],\n",
      "        [1., 0., 0., 0., 0., 0.],\n",
      "        [0., 0., 0., 0., 0., 0.],\n",
      "        [0., 0., 0., 0., 0., 0.],\n",
      "        [0., 0., 0., 0., 0., 0.],\n",
      "        [0., 0., 0., 0., 0., 0.]])}\n",
      "id shape in data laoder is torch.Size([32, 200])\n",
      "CPU times: user 29.5 ms, sys: 102 ms, total: 131 ms\n",
      "Wall time: 524 ms\n"
     ]
    }
   ],
   "source": [
    "%%time\n",
    "for a in train_dataloader:\n",
    "    print(a)\n",
    "    print('id shape in data laoder is',a['ids'].shape)\n",
    "    break\n",
    "# 在这里，我们可以检查数据记录器内部"
   ]
  },
  {
   "cell_type": "markdown",
   "metadata": {},
   "source": [
    "# 5.BERT Modeling"
   ]
  },
  {
   "cell_type": "code",
   "execution_count": 32,
   "metadata": {},
   "outputs": [
    {
     "data": {
      "text/plain": [
       "device(type='cpu')"
      ]
     },
     "execution_count": 32,
     "metadata": {},
     "output_type": "execute_result"
    }
   ],
   "source": [
    "# 为了更快的计算，让我们设置设备cuda（如果可用）。\n",
    "device = torch.device('cuda' if torch.cuda.is_available() else 'cpu')\n",
    "device"
   ]
  },
  {
   "cell_type": "code",
   "execution_count": 33,
   "metadata": {},
   "outputs": [
    {
     "name": "stderr",
     "output_type": "stream",
     "text": [
      "Some weights of BertForSequenceClassification were not initialized from the model checkpoint at bert-base-cased and are newly initialized: ['classifier.weight', 'classifier.bias']\n",
      "You should probably TRAIN this model on a down-stream task to be able to use it for predictions and inference.\n"
     ]
    },
    {
     "name": "stdout",
     "output_type": "stream",
     "text": [
      "CPU times: user 766 ms, sys: 915 ms, total: 1.68 s\n",
      "Wall time: 4.49 s\n"
     ]
    },
    {
     "data": {
      "text/plain": [
       "BertForSequenceClassification(\n",
       "  (bert): BertModel(\n",
       "    (embeddings): BertEmbeddings(\n",
       "      (word_embeddings): Embedding(28996, 768, padding_idx=0)\n",
       "      (position_embeddings): Embedding(512, 768)\n",
       "      (token_type_embeddings): Embedding(2, 768)\n",
       "      (LayerNorm): LayerNorm((768,), eps=1e-12, elementwise_affine=True)\n",
       "      (dropout): Dropout(p=0.1, inplace=False)\n",
       "    )\n",
       "    (encoder): BertEncoder(\n",
       "      (layer): ModuleList(\n",
       "        (0-11): 12 x BertLayer(\n",
       "          (attention): BertAttention(\n",
       "            (self): BertSelfAttention(\n",
       "              (query): Linear(in_features=768, out_features=768, bias=True)\n",
       "              (key): Linear(in_features=768, out_features=768, bias=True)\n",
       "              (value): Linear(in_features=768, out_features=768, bias=True)\n",
       "              (dropout): Dropout(p=0.1, inplace=False)\n",
       "            )\n",
       "            (output): BertSelfOutput(\n",
       "              (dense): Linear(in_features=768, out_features=768, bias=True)\n",
       "              (LayerNorm): LayerNorm((768,), eps=1e-12, elementwise_affine=True)\n",
       "              (dropout): Dropout(p=0.1, inplace=False)\n",
       "            )\n",
       "          )\n",
       "          (intermediate): BertIntermediate(\n",
       "            (dense): Linear(in_features=768, out_features=3072, bias=True)\n",
       "            (intermediate_act_fn): GELUActivation()\n",
       "          )\n",
       "          (output): BertOutput(\n",
       "            (dense): Linear(in_features=3072, out_features=768, bias=True)\n",
       "            (LayerNorm): LayerNorm((768,), eps=1e-12, elementwise_affine=True)\n",
       "            (dropout): Dropout(p=0.1, inplace=False)\n",
       "          )\n",
       "        )\n",
       "      )\n",
       "    )\n",
       "    (pooler): BertPooler(\n",
       "      (dense): Linear(in_features=768, out_features=768, bias=True)\n",
       "      (activation): Tanh()\n",
       "    )\n",
       "  )\n",
       "  (dropout): Dropout(p=0.1, inplace=False)\n",
       "  (classifier): Linear(in_features=768, out_features=6, bias=True)\n",
       ")"
      ]
     },
     "execution_count": 33,
     "metadata": {},
     "output_type": "execute_result"
    }
   ],
   "source": [
    "%%time\n",
    "model = transformers.BertForSequenceClassification.from_pretrained('bert-base-cased', num_labels = 6)\n",
    "model.to(device)\n",
    "model.train()"
   ]
  },
  {
   "cell_type": "code",
   "execution_count": 34,
   "metadata": {},
   "outputs": [],
   "source": [
    "# 用for循环迭代训练数据加载器train_dataloader，每次迭代获取一个批次的数据。\n",
    "for a in train_dataloader:\n",
    "    # 从批次数据a中获取输入标记（token）ID张量，并将其移动到指定的设备上（通常是GPU）。这里假设模型的输入是ids。\n",
    "    ids = a['ids'].to(device)\n",
    "    # 从批次数据a中获取注意力掩码（attention mask）张量，并将其移动到指定的设备上。这里假设模型的输入是mask。\n",
    "    mask = a['mask'].to(device)\n",
    "    # 将输入数据ids和mask传递给模型进行前向推理，得到输出结果。这里假设模型是一个可调用对象，并且采用了输入为ids和mask的调用方式。\n",
    "    output = model(ids, mask)\n",
    "    break"
   ]
  },
  {
   "cell_type": "code",
   "execution_count": 35,
   "metadata": {},
   "outputs": [
    {
     "data": {
      "text/plain": [
       "SequenceClassifierOutput(loss=None, logits=tensor([[ 0.3815,  0.4464,  0.0939, -0.7846, -0.3709, -0.4193],\n",
       "        [ 0.7494,  0.3200,  0.1359, -0.8429, -0.2012, -0.1883],\n",
       "        [ 0.6118,  0.3596,  0.1714, -0.6639, -0.3607, -0.3531],\n",
       "        [ 0.6472,  0.2263, -0.0137, -0.3388, -0.4653, -0.0912],\n",
       "        [ 0.8247,  0.3835,  0.3213, -0.7171, -0.1386,  0.1744],\n",
       "        [ 0.3072,  0.0400,  0.1078, -0.6001, -0.2020,  0.0542],\n",
       "        [ 0.5474,  0.1405,  0.1599, -0.4739, -0.1076, -0.3854],\n",
       "        [ 0.5317,  0.3002,  0.1793, -0.4504, -0.2345, -0.0555],\n",
       "        [ 0.6668,  0.5423,  0.5865, -0.4796, -0.1606, -0.0569],\n",
       "        [ 0.5281,  0.3104,  0.1427, -0.5065, -0.1396,  0.0204],\n",
       "        [ 0.9418,  0.2514,  0.4774, -0.6493,  0.0740, -0.3834],\n",
       "        [ 0.3557,  0.7851,  0.3501, -0.3863, -0.2687, -0.1735],\n",
       "        [ 0.2585,  0.3359,  0.1473, -0.2119, -0.3774, -0.2720],\n",
       "        [ 0.9064,  0.3391,  0.2519, -0.4020, -0.4351, -0.0032],\n",
       "        [ 0.6799,  0.0684,  0.2877, -0.7487, -0.2911, -0.3567],\n",
       "        [ 0.7588,  0.3477, -0.0860, -0.4779, -0.1858, -0.4002],\n",
       "        [ 0.4810,  0.3417,  0.3820, -0.6016, -0.1298, -0.4276],\n",
       "        [ 0.6477,  0.4507,  0.6323, -0.5115, -0.1614, -0.3363],\n",
       "        [ 0.6413,  0.4968,  0.3968, -0.5454, -0.2680, -0.2382],\n",
       "        [ 0.6228,  0.1763,  0.0337, -0.2658, -0.3996,  0.2577],\n",
       "        [ 0.7789,  0.3220,  0.0123, -0.4002, -0.3080, -0.3448],\n",
       "        [ 0.7350,  0.2460,  0.2215, -0.6586,  0.0982, -0.1975],\n",
       "        [ 0.9316,  0.6427,  0.4824, -0.8735,  0.0550, -0.4306],\n",
       "        [ 0.6417,  0.3136,  0.0680, -0.7408, -0.0953, -0.2701],\n",
       "        [ 0.6719,  0.3145,  0.1803, -0.5193, -0.3293, -0.2766],\n",
       "        [ 0.8036,  0.4479,  0.1396, -0.3952,  0.0071, -0.5208],\n",
       "        [ 0.9217,  0.6078,  0.4023, -0.7284, -0.0661, -0.0401],\n",
       "        [ 0.8692,  0.7914,  0.2029, -0.4498, -0.2928, -0.1655],\n",
       "        [ 0.8274,  0.3775,  0.3565, -0.5357, -0.3330, -0.2428],\n",
       "        [ 0.5780,  0.2730,  0.2993, -0.3314, -0.5358, -0.2785],\n",
       "        [ 0.6133,  0.2803,  0.2595, -0.9407, -0.3221, -0.2383],\n",
       "        [ 0.7872,  0.5912,  0.1180, -0.8066, -0.3092, -0.2564]],\n",
       "       grad_fn=<AddmmBackward0>), hidden_states=None, attentions=None)"
      ]
     },
     "execution_count": 35,
     "metadata": {},
     "output_type": "execute_result"
    }
   ],
   "source": [
    "output"
   ]
  },
  {
   "cell_type": "markdown",
   "metadata": {},
   "source": [
    "## 5.1 Softmax和Sigmoid\n",
    "为了得到输出概率，我们应该使用sigmoid函数。这可以在模型中完成，也可以像这里一样应用于模型的输出。我第一次犯了错误，使用了softmax函数。然而，在我们的例子中，评论可以同时被归类为有毒、淫秽和侮辱。因此，这不是multi-classficationm，因此，这不适用。  \n",
    "以下是softmax函数和sigmoid函数之间差异的总结。  \n",
    "Softmax功能：  \n",
    "    用于物流回归模型中的Multi-classification  \n",
    "    概率和为1  \n",
    "Sigmoid功能：  \n",
    "    用于Logistic回归模型中的二进制分类  \n",
    "    概率和不需要是1  \n",
    "要了解更多关于他们的信息，你可以阅读以下内容：https://medium.com/arteos-ai/the-differences-between-sigmoid-and-softmax-activation-function-12adee8cf322"
   ]
  },
  {
   "cell_type": "code",
   "execution_count": 36,
   "metadata": {},
   "outputs": [
    {
     "data": {
      "text/plain": [
       "tensor([[0.2470, 0.2635, 0.1852, 0.0770, 0.1164, 0.1109],\n",
       "        [0.3151, 0.2051, 0.1706, 0.0641, 0.1218, 0.1234],\n",
       "        [0.2891, 0.2246, 0.1861, 0.0807, 0.1093, 0.1102],\n",
       "        [0.2983, 0.1958, 0.1540, 0.1113, 0.0981, 0.1425],\n",
       "        [0.2972, 0.1911, 0.1796, 0.0636, 0.1134, 0.1551],\n",
       "        [0.2291, 0.1754, 0.1876, 0.0925, 0.1377, 0.1778],\n",
       "        [0.2764, 0.1840, 0.1876, 0.0996, 0.1436, 0.1088],\n",
       "        [0.2570, 0.2039, 0.1806, 0.0962, 0.1194, 0.1428],\n",
       "        [0.2472, 0.2182, 0.2281, 0.0786, 0.1081, 0.1199],\n",
       "        [0.2529, 0.2034, 0.1720, 0.0899, 0.1297, 0.1522],\n",
       "        [0.3312, 0.1661, 0.2082, 0.0675, 0.1391, 0.0880],\n",
       "        [0.1949, 0.2994, 0.1938, 0.0928, 0.1044, 0.1148],\n",
       "        [0.2120, 0.2290, 0.1897, 0.1324, 0.1122, 0.1247],\n",
       "        [0.3310, 0.1877, 0.1720, 0.0895, 0.0865, 0.1333],\n",
       "        [0.3134, 0.1700, 0.2117, 0.0751, 0.1187, 0.1111],\n",
       "        [0.3241, 0.2148, 0.1392, 0.0941, 0.1260, 0.1017],\n",
       "        [0.2463, 0.2143, 0.2231, 0.0834, 0.1337, 0.0993],\n",
       "        [0.2539, 0.2085, 0.2500, 0.0797, 0.1130, 0.0949],\n",
       "        [0.2651, 0.2295, 0.2076, 0.0809, 0.1068, 0.1100],\n",
       "        [0.2732, 0.1748, 0.1516, 0.1124, 0.0983, 0.1897],\n",
       "        [0.3260, 0.2064, 0.1514, 0.1003, 0.1099, 0.1060],\n",
       "        [0.2956, 0.1813, 0.1769, 0.0734, 0.1564, 0.1164],\n",
       "        [0.3102, 0.2324, 0.1979, 0.0510, 0.1291, 0.0794],\n",
       "        [0.2928, 0.2109, 0.1650, 0.0735, 0.1401, 0.1177],\n",
       "        [0.2968, 0.2076, 0.1815, 0.0902, 0.1090, 0.1149],\n",
       "        [0.3092, 0.2167, 0.1592, 0.0933, 0.1394, 0.0822],\n",
       "        [0.3056, 0.2233, 0.1818, 0.0587, 0.1138, 0.1168],\n",
       "        [0.2964, 0.2742, 0.1522, 0.0792, 0.0927, 0.1053],\n",
       "        [0.3150, 0.2009, 0.1967, 0.0806, 0.0987, 0.1080],\n",
       "        [0.2740, 0.2020, 0.2074, 0.1104, 0.0900, 0.1163],\n",
       "        [0.2899, 0.2078, 0.2035, 0.0613, 0.1138, 0.1237],\n",
       "        [0.3102, 0.2550, 0.1589, 0.0630, 0.1036, 0.1093]],\n",
       "       grad_fn=<SoftmaxBackward0>)"
      ]
     },
     "execution_count": 36,
     "metadata": {},
     "output_type": "execute_result"
    }
   ],
   "source": [
    "# 使用了PyTorch中的softmax函数，对模型的输出output['logits']进行概率归一化。output['logits']是一个张量，\n",
    "# 其形状可能是(batch_size, num_classes)，其中batch_size是批次大小，num_classes是类别数量。\n",
    "# dim=1参数指定沿着第1个维度进行softmax操作，即对每个样本的输出进行概率归一化。这样，函数将对每个样本的输出值进行softmax处理，\n",
    "# 并返回一个与output['logits']形状相同的张量，其中每个元素表示对应类别的概率值。\n",
    "func.softmax(output['logits'], dim = 1)"
   ]
  },
  {
   "cell_type": "code",
   "execution_count": 37,
   "metadata": {},
   "outputs": [
    {
     "data": {
      "text/plain": [
       "torch.return_types.max(\n",
       "values=tensor([0.2635, 0.3151, 0.2891, 0.2983, 0.2972, 0.2291, 0.2764, 0.2570, 0.2472,\n",
       "        0.2529, 0.3312, 0.2994, 0.2290, 0.3310, 0.3134, 0.3241, 0.2463, 0.2539,\n",
       "        0.2651, 0.2732, 0.3260, 0.2956, 0.3102, 0.2928, 0.2968, 0.3092, 0.3056,\n",
       "        0.2964, 0.3150, 0.2740, 0.2899, 0.3102], grad_fn=<MaxBackward0>),\n",
       "indices=tensor([1, 0, 0, 0, 0, 0, 0, 0, 0, 0, 0, 1, 1, 0, 0, 0, 0, 0, 0, 0, 0, 0, 0, 0,\n",
       "        0, 0, 0, 0, 0, 0, 0, 0]))"
      ]
     },
     "execution_count": 37,
     "metadata": {},
     "output_type": "execute_result"
    }
   ],
   "source": [
    "# 使用softmax函数对模型的输出output['logits']进行概率归一化，得到每个类别的概率分布。\n",
    "# output['logits']是模型的原始输出，经过softmax处理后，output_probs将包含每个类别的概率值。\n",
    "output_probs = func.softmax(output['logits'], dim = 1)\n",
    "# 使用torch.max函数计算概率分布中的最大概率及其对应的索引。output_probs是一个张量，其形状可能是(batch_size, num_classes)，\n",
    "# 其中batch_size是批次大小，num_classes是类别数量。dim=1参数指定沿着第1个维度进行计算，即对每个样本的概率分布计算最大值。\n",
    "torch.max(output_probs, dim = 1)"
   ]
  },
  {
   "cell_type": "markdown",
   "metadata": {},
   "source": [
    "# 6.Functions for training and validating\n",
    "## 6.1 Setting up some parameters"
   ]
  },
  {
   "cell_type": "code",
   "execution_count": 38,
   "metadata": {},
   "outputs": [],
   "source": [
    "# 定义了训练的总轮数（epoch）。在训练过程中，将对数据集进行多次迭代，每次迭代称为一个轮数。\n",
    "epochs = 5\n",
    "# 定义了学习率（learning rate）。学习率控制了模型参数更新的步长，即每次更新时参数所改变的大小。\n",
    "LR = 2e-5 #Learning rate\n",
    "# 创建了一个优化器对象，用于更新模型的参数。\n",
    "# model.parameters(): 指定需要更新的模型参数。model是之前定义的模型对象，调用parameters()方法可以获取到模型的可训练参数。\n",
    "# LR: 学习率，即参数更新的步长。\n",
    "# betas=(0.9, 0.999): AdamW优化器中的beta系数，用于计算梯度一阶矩和二阶矩的移动平均。\n",
    "# weight_decay=1e-2: 权重衰减因子，用于对模型参数进行L2正则化，以防止过拟合。\n",
    "# correct_bias=False: 是否对偏置项进行修正。\n",
    "optimizer = AdamW(model.parameters(), LR, betas = (0.9, 0.999), weight_decay = 1e-2, correct_bias = False)"
   ]
  },
  {
   "cell_type": "code",
   "execution_count": 39,
   "metadata": {},
   "outputs": [],
   "source": [
    "# 对于总训练时间的10%，我们使用上面设置的学习率参数。然后我们逐渐将学习率降低到零。\n",
    "\n",
    "# 计算了训练过程中的总步数（train_steps）。len(train)表示训练集的样本数量，epochs表示训练的总轮数，\n",
    "# train_batch表示每个训练批次的样本数量。通过这个计算，可以确定在整个训练过程中需要执行多少个训练步骤。\n",
    "train_steps = int((len(train) * epochs)/train_batch)\n",
    "# 计算了学习率调度器中的预热步数num_steps，train_steps表示总步数，0.1表示预热步数占总步数的比例\n",
    "num_steps = int(train_steps * 0.1)\n",
    "# 创建了一个学习率调度器（scheduler），使用了线性预热策略。\n",
    "# optimizer是之前定义的优化器对象。num_steps表示预热步数，train_steps表示总步数。\n",
    "scheduler = get_linear_schedule_with_warmup(optimizer, num_steps, train_steps)"
   ]
  },
  {
   "cell_type": "code",
   "execution_count": 40,
   "metadata": {},
   "outputs": [
    {
     "name": "stderr",
     "output_type": "stream",
     "text": [
      "100%|██████████| 5/5 [00:04<00:00,  1.01it/s]\n"
     ]
    },
    {
     "data": {
      "text/plain": [
       "[<matplotlib.lines.Line2D at 0x7fcc6b226c20>]"
      ]
     },
     "execution_count": 40,
     "metadata": {},
     "output_type": "execute_result"
    },
    {
     "data": {
      "image/png": "[encoded data removed]",
      "text/plain": [
       "<Figure size 640x480 with 1 Axes>"
      ]
     },
     "metadata": {},
     "output_type": "display_data"
    }
   ],
   "source": [
    "# 创建一个空列表le，用于存储每个训练步骤的学习率。\n",
    "le = []\n",
    "# 使用for循环迭代epochs次，表示训练的总轮数。使用tqdm函数可以在循环中显示一个进度条，以便实时跟踪训练进度。\n",
    "for b in tqdm(range(epochs)):\n",
    "    # 使用嵌套的for循环迭代训练数据加载器train_dataloader，获取每个批次的数据进行训练。\n",
    "    for a in train_dataloader:\n",
    "        # 获取当前训练步骤的学习率，并将其添加到le列表中。scheduler.get_last_lr()返回当前学习率的值。\n",
    "        le.append(scheduler.get_last_lr())\n",
    "        # 调用学习率调度器的step()方法，更新学习率。\n",
    "        scheduler.step()\n",
    "# np.arange(len(le))创建一个与le列表长度相同的横坐标，表示训练步骤的索引。然后，使用plt.plot函数绘制学习率曲线。\n",
    "plt.plot(np.arange(len(le)), le)"
   ]
  },
  {
   "cell_type": "code",
   "execution_count": 41,
   "metadata": {},
   "outputs": [],
   "source": [
    "# 创建了一个二分类任务中常用的损失函数BCEWithLogitsLoss。\n",
    "# 该损失函数结合了sigmoid激活函数和二元交叉熵损失，适用于二分类问题。它可以直接在模型的输出上计算损失，无需对输出进行额外的激活函数处理。\n",
    "loss_fn = nn.BCEWithLogitsLoss()\n",
    "# 将损失函数对象移动到指定的设备上进行计算。\n",
    "# device是之前定义的设备对象，可以是CPU或GPU。将损失函数移动到设备上，可以确保在计算损失时使用与模型相同的设备。\n",
    "loss_fn.to(device)\n",
    "\n",
    "# 创建了一个梯度缩放器对象scaler，用于在混合精度训练中缩放和反缩放梯度。\n",
    "# torch.cuda.amp是PyTorch提供的用于混合精度训练的加速库。\n",
    "scaler = torch.cuda.amp.GradScaler()"
   ]
  },
  {
   "cell_type": "markdown",
   "metadata": {},
   "source": [
    "## 6.2Training function\n",
    "\n",
    "amp代表自动混合精度。  \n",
    "要了解有关自动广播的更多信息，请阅读此链接：https://pytorch.org/docs/stable/amp.html  \n",
    "简而言之：自动转换的实例充当上下文管理器或装饰器，允许脚本区域以混合精度运行，其中一些操作使用torch. float32（浮点数）数据类型，而其他操作使用torch.float16（一半）。自动转换应该只包装网络的前向传递，包括损失计算。不建议自动转换下的向后传递。  \n",
    "\n",
    "Python中的with语句用于异常处理，以使代码更清晰、更具可读性。它简化了文件流等常见资源的管理。这是了解更多信息的链接。\n",
    "https://www.geeksforgeeks.org/with-statement-in-python/  \n",
    "\n",
    "Non-Blocking允许您将计算和内存传输重叠到GPU。固定内存允许非阻塞调用实际上是非阻塞的。\n",
    "\n",
    "为什么只使用var.detach().cpu().numpy()而不是var.numpy()？\n",
    "因为我们得到了一个错误。这个选择背后的主要原因大概是为了避免混淆新来的人。不太熟悉requires_grad和cpu/gpu张量的人可能会来回使用numpy。例如，在最后一个张量上执行pytorch->numpy->pytorch并向后返回。这将毫无问题地向后返回，但不会一直到代码的第一部分，也不会引发任何错误。因此，选择强制用户分离（）以确保他们想要这样做，而不是错别字/其他库进行这种转换并破坏计算图。\n",
    "\n",
    "optimizer.step(): 它根据当前梯度（存储在参数的. grad属性中）和更新规则执行参数更新。例如，SGD的更新规则定义在此处：\n",
    "https://github.com/pytorch/pytorch/blob/cd9b27231b51633e76e28b6a34002ab83b0660fc/torch/optim/sgd.py#L63\n",
    "\n",
    "los.backward()多次调用.backward()会累积每个参数的梯度（通过加法）。这就是为什么您应该在每次.Step()调用后调用优化器.zero_grad()。请注意，在第一次.backward()调用之后，只有在执行另一个前向传递之后才能进行第二次调用。"
   ]
  },
  {
   "cell_type": "code",
   "execution_count": 42,
   "metadata": {},
   "outputs": [],
   "source": [
    "# 您可以在下面的代码块中找到有关某些关键字的更多详细信息。\n",
    "def training(train_dataloader, model, optimizer, scheduler):\n",
    "    #  将模型设置为训练模式，以启用训练相关的功能\n",
    "    model.train()\n",
    "    # 启用CuDNN的自动调优机制，以提高训练速度。该语句是可选的，可以根据需要进行设置。\n",
    "    torch.backends.cudnn.benchmark = True\n",
    "    # 用于记录正确预测的数量。\n",
    "    correct_predictions = 0\n",
    "    \n",
    "    # 使用for循环迭代训练数据加载器\n",
    "    for a in train_dataloader:\n",
    "        # 创建一个空列表losses，用于存储每个批次的损失值。\n",
    "        losses = []\n",
    "        # 将优化器中的梯度归零，以准备计算新一批数据的梯度。\n",
    "        optimizer.zero_grad()\n",
    "        # 使用自动混合精度上下文，将模型和数据转换为适当的精度进行计算。这可以提高训练速度并节省内存。\n",
    "        with torch.cuda.amp.autocast():\n",
    "            # 将输入数据ids移动到指定的设备上进行计算。\n",
    "            ids = a['ids'].to(device, non_blocking = True)\n",
    "            # 将输入数据mask移动到指定的设备上进行计算。\n",
    "            mask = a['mask'].to(device, non_blocking = True) \n",
    "            # 将输入数据传递给模型进行前向传播，得到模型的输出。\n",
    "            output = model(ids, mask)\n",
    "            # 从模型的输出中提取logits，并将其转换为float32类型。\n",
    "            output = output['logits'].squeeze(-1).to(torch.float32)\n",
    "            # 将logits输入到sigmoid函数中，得到输出的概率值。\n",
    "            output_probs = torch.sigmoid(output)\n",
    "            # 据输出概率值，将概率大于0.5的判定为1，小于等于0.5的判定为0，得到预测结果。\n",
    "            preds = torch.where(output_probs > 0.5, 1, 0)\n",
    "            # 将目标标签数据toxic_label移动到指定的设备上进行计算。\n",
    "            toxic_label = a['toxic_label'].to(device, non_blocking = True)\n",
    "            # 计算模型输出与目标标签之间的损失，使用之前定义的损失函数loss_fn。 \n",
    "            loss = loss_fn(output, toxic_label)            \n",
    "            # 将当前批次的损失值添加到losses列表中。\n",
    "            losses.append(loss.item())\n",
    "            # 统计正确预测的数量，通过计算预测结果与目标标签相等的元素个数进行累加。\n",
    "            correct_predictions += torch.sum(preds == toxic_label)\n",
    "        # 将损失值进行梯度缩放并进行反向传播。这是混合精度训练中的一步，用于缩放梯度的值。\n",
    "        scaler.scale(loss).backward()\n",
    "        # 使用缩放后的梯度值来更新模型的参数。这是混合精度训练中的一步，用于更新模型参数。\n",
    "        scaler.step(optimizer)\n",
    "        # 新梯度缩放器的缩放因子。如果跳过了某些优化器步骤，则会相应地调整缩放因子，以减小它。\n",
    "        # 如果连续出现未跳过的迭代次数，缩放因子将乘以增长因子，以增加它。\n",
    "        scaler.update()\n",
    "        # 更新学习率调度器，根据当前的迭代次数调整学习率。\n",
    "        scheduler.step()\n",
    "    # 计算所有批次的平均损失值。\n",
    "    losses = np.mean(losses)\n",
    "    # 将正确预测的数量从Tensor对象转换为NumPy数组。\n",
    "    corr_preds = correct_predictions.detach().cpu().numpy()\n",
    "    # 计算准确率，即正确预测的样本数除以总样本数的乘积。\n",
    "    accuracy = corr_preds/(len(p_train)*6)\n",
    "    # 返回训练过程中的平均损失值和准确率。\n",
    "    return losses, accuracy"
   ]
  },
  {
   "cell_type": "markdown",
   "metadata": {},
   "source": [
    "## 6.3 Gradient Scaling\n",
    "如果特定操作的前向传递有float16输入，则该操作的后向传递将产生float16梯度。小幅度的梯度值可能无法在float16中表示。这些值将刷新到零（“下限溢位”），因此相应参数的更新将丢失。  \n",
    "为了防止下限溢位，“梯度缩放”将网络的损耗乘以缩放因子，并对缩放后的损耗调用向后传递。然后，向后流经网络的梯度按相同的因子缩放。换句话说，梯度值具有更大的幅度，因此它们不会刷新为零。  \n",
    "在优化器更新参数之前，每个参数的梯度（.grad属性）都应该未缩放，因此缩放因子不会干扰学习率。  \n",
    "Step()执行以下两个操作：  \n",
    "1.在内部调用unscale(优化器)(除非在迭代的前面显式地为优化器调用unscale())。  \n",
    "2.如果未找到inf/NaN渐变，请使用未缩放的渐变调用优化器.Step()。否则，将跳过优化器.Step()以避免损坏参数。\n",
    "## 6.4 Validating function\n"
   ]
  },
  {
   "cell_type": "code",
   "execution_count": 43,
   "metadata": {},
   "outputs": [],
   "source": [
    "# 验证函数与训练函数非常相似。不同之处在于其中没有反向传播和参数优化。\n",
    "def validating(valid_dataloader, model):\n",
    "    # 将模型设置为评估模式，以禁用训练相关的功能，如批次归一化和Dropout。\n",
    "    model.eval()\n",
    "    # 用于记录正确预测的数量。\n",
    "    correct_predictions = 0\n",
    "    # 创建一个空列表all_output_probs，用于存储所有输出概率值。\n",
    "    all_output_probs = []\n",
    "    # 使用for循环迭代验证数据加载器valid_dataloader，获取每个批次的数据进行验证。\n",
    "    for a in valid_dataloader:\n",
    "        # 创建一个空列表losses，用于存储每个批次的损失值。\n",
    "        losses = []\n",
    "        # 将输入数据ids移动到指定的设备上进行计算。\n",
    "        ids = a['ids'].to(device, non_blocking = True)\n",
    "        # 将输入数据mask移动到指定的设备上进行计算。\n",
    "        mask = a['mask'].to(device, non_blocking = True)\n",
    "        # 将输入数据传递给模型进行前向传播，得到模型的输出。\n",
    "        output = model(ids, mask)\n",
    "        # 从模型的输出中提取logits，并将其转换为float32类型。\n",
    "        output = output['logits'].squeeze(-1).to(torch.float32)\n",
    "        # 将logits输入到sigmoid函数中，得到输出的概率值。\n",
    "        output_probs = torch.sigmoid(output)\n",
    "        # 根据输出概率值，将概率大于0.5的判定为1，小于等于0.5的判定为0，得到预测结果。\n",
    "        preds = torch.where(output_probs > 0.5, 1, 0)\n",
    "        # 将目标标签数据toxic_label移动到指定的设备上进行计算。\n",
    "        toxic_label = a['toxic_label'].to(device, non_blocking = True)\n",
    "        # 计算模型输出与目标标签之间的损失，使用之前定义的损失函数loss_fn。\n",
    "        loss = loss_fn(output, toxic_label)\n",
    "        # 将当前批次的损失值添加到losses列表中。\n",
    "        losses.append(loss.item())\n",
    "        # 将当前批次的输出概率值添加到all_output_probs列表中。\n",
    "        all_output_probs.extend(output_probs.detach().cpu().numpy())\n",
    "        # 统计正确预测的数量，通过计算预测结果与目标标签相等的元素个数进行累加。\n",
    "        correct_predictions += torch.sum(preds == toxic_label)\n",
    "        # 将正确预测的数量从Tensor对象转换为NumPy数组。\n",
    "        corr_preds = correct_predictions.detach().cpu().numpy()\n",
    "    # 计算所有批次的平均损失值。\n",
    "    losses = np.mean(losses)\n",
    "    # 将正确预测的数量从Tensor对象转换为NumPy数组。\n",
    "    corr_preds = correct_predictions.detach().cpu().numpy()\n",
    "    # 计算准确率，即正确预测的样本数除以总样本数的乘积。\n",
    "    accuracy = corr_preds/(len(p_valid)*6)\n",
    "    # 返回验证过程中的平均损失值、准确率和所有输出概率值。\n",
    "    return losses, accuracy, all_output_probs"
   ]
  },
  {
   "cell_type": "markdown",
   "metadata": {},
   "source": [
    "# 6.Training the model\n",
    "## 6.1 Run training function"
   ]
  },
  {
   "cell_type": "code",
   "execution_count": 44,
   "metadata": {},
   "outputs": [
    {
     "name": "stderr",
     "output_type": "stream",
     "text": [
      "  0%|          | 0/5 [00:00<?, ?it/s]"
     ]
    },
    {
     "name": "stdout",
     "output_type": "stream",
     "text": [
      "train losses: 0.6417 train accuracy: 0.526\n",
      "valid losses: 0.6354 valid accuracy: 0.592\n",
      "Found a good model!\n"
     ]
    },
    {
     "name": "stderr",
     "output_type": "stream",
     "text": [
      " 20%|██        | 1/5 [01:10<04:42, 70.74s/it]"
     ]
    },
    {
     "name": "stdout",
     "output_type": "stream",
     "text": [
      "train losses: 0.6283 train accuracy: 0.620\n",
      "valid losses: 0.6279 valid accuracy: 0.604\n",
      "Found a good model!\n"
     ]
    },
    {
     "name": "stderr",
     "output_type": "stream",
     "text": [
      " 60%|██████    | 3/5 [03:17<02:09, 64.68s/it]"
     ]
    },
    {
     "name": "stdout",
     "output_type": "stream",
     "text": [
      "train losses: 0.6265 train accuracy: 0.602\n",
      "valid losses: 0.6279 valid accuracy: 0.604\n"
     ]
    },
    {
     "name": "stderr",
     "output_type": "stream",
     "text": [
      " 80%|████████  | 4/5 [04:12<01:00, 60.60s/it]"
     ]
    },
    {
     "name": "stdout",
     "output_type": "stream",
     "text": [
      "train losses: 0.6233 train accuracy: 0.605\n",
      "valid losses: 0.6279 valid accuracy: 0.604\n"
     ]
    },
    {
     "name": "stderr",
     "output_type": "stream",
     "text": [
      "100%|██████████| 5/5 [05:10<00:00, 62.05s/it]"
     ]
    },
    {
     "name": "stdout",
     "output_type": "stream",
     "text": [
      "train losses: 0.6353 train accuracy: 0.606\n",
      "valid losses: 0.6279 valid accuracy: 0.604\n"
     ]
    },
    {
     "name": "stderr",
     "output_type": "stream",
     "text": [
      "\n"
     ]
    }
   ],
   "source": [
    "# 初始化一个变量best_score，用于记录最佳的验证损失值。将其初始值设置为一个较大的数，以确保第一个验证损失值一定能够更新best_score。\n",
    "best_score = 1000\n",
    "# 创建空列表用于存储每个epoch的训练准确率\n",
    "train_accs = []\n",
    "# 验证准确率\n",
    "valid_accs = []\n",
    "# 训练损失值\n",
    "train_losses = []\n",
    "# 验证损失值\n",
    "valid_losses = []\n",
    "\n",
    "# 使用for循环迭代epochs次，表示训练的总轮数。\n",
    "for eboch in tqdm(range(epochs)):\n",
    "    # 调用训练函数training，传入训练数据加载器train_dataloader、模型model、优化器optimizer和学习率调度器scheduler，\n",
    "    # 并获取训练过程中的损失值和准确率。\n",
    "    train_loss, train_acc = training(train_dataloader, model, optimizer, scheduler)\n",
    "    # 调用验证函数validating，传入验证数据加载器valid_dataloader和模型model，并获取验证过程中的损失值、准确率和输出概率值。\n",
    "    valid_loss, valid_acc, valid_probs = validating(valid_dataloader, model)\n",
    "    # 打印训练损失值和训练准确率。\n",
    "    print('train losses: %.4f' % train_loss, 'train accuracy: %.3f' % train_acc)\n",
    "    #  打印验证损失值和验证准确率。\n",
    "    print('valid losses: %.4f' % valid_loss, 'valid accuracy: %.3f' % valid_acc)\n",
    "    # 将训练损失值和验证损失值添加到对应的列表中。\n",
    "    train_losses.append(train_loss)\n",
    "    valid_losses.append(valid_loss)\n",
    "    # 将训练准确率和验证准确率添加到对应的列表中。\n",
    "    train_accs.append(train_acc)\n",
    "    valid_accs.append(valid_acc)\n",
    "    \n",
    "    # 判断当前的验证损失值是否小于best_score\n",
    "    if valid_loss < best_score:\n",
    "        # 更新best_score为当前的验证损失值\n",
    "        best_score = valid_loss\n",
    "        # 打印提示信息\"Found a good model!\"，表示找到了一个性能更好的模型。\n",
    "        print('Found a good model!')\n",
    "        # 创建一个字典state，包含了模型的状态字典、优化器的状态字典和best_score的值。\n",
    "        state = {\n",
    "            'state_dict': model.state_dict(),\n",
    "            'optimizer_dict': optimizer.state_dict(),\n",
    "            'best_score': best_score\n",
    "        }\n",
    "        # 使用torch.save函数将state保存到文件\"best_model.pth\"，以便后续使用。\n",
    "        torch.save(state, 'best_model.pth')\n",
    "    # 如果当前的验证损失值不小于best_score，则不执行任何操作，继续进行下一个epoch的训练。\n",
    "    else:\n",
    "        pass"
   ]
  },
  {
   "cell_type": "markdown",
   "metadata": {},
   "source": [
    "## 6.2 Plotting the results"
   ]
  },
  {
   "cell_type": "code",
   "execution_count": 45,
   "metadata": {},
   "outputs": [
    {
     "data": {
      "text/plain": [
       "Text(0.5, 0.98, 'Fold = 0')"
      ]
     },
     "execution_count": 45,
     "metadata": {},
     "output_type": "execute_result"
    },
    {
     "data": {
      "image/png": "[encoded data removed]",
      "text/plain": [
       "<Figure size 1500x400 with 2 Axes>"
      ]
     },
     "metadata": {},
     "output_type": "display_data"
    }
   ],
   "source": [
    "# 创建一个NumPy数组x，用于表示epoch的取值范围。\n",
    "x = np.arange(epochs)\n",
    "# 创建一个包含两个子图的图形，返回一个包含图形和子图对象的元组fig, ax。其中，fig是整个图形对象，ax是一个包含两个子图对象的数组。\n",
    "fig, ax = plt.subplots(1, 2, figsize = (15,4))\n",
    "# 在第一个子图中绘制训练损失值随着epoch的变化趋势，横坐标为x，纵坐标为train_losses。\n",
    "ax[0].plot(x, train_losses)\n",
    "# 在第一个子图中绘制验证损失值随着epoch的变化趋势，横坐标为x，纵坐标为valid_losses。\n",
    "ax[0].plot(x, valid_losses)\n",
    "# 设置第一个子图的纵轴标签为'Losses'，设置字体加粗。\n",
    "ax[0].set_ylabel('Losses', weight = 'bold')\n",
    "# 设置第一个子图的横轴标签为'Epochs'。\n",
    "ax[0].set_xlabel('Epochs')\n",
    "# 设置第一个子图的网格线，透明度为0.3。\n",
    "ax[0].grid(alpha = 0.3)\n",
    "# 设置第一个子图的图例，其中包含'train losses'和'valid losses'的标签。\n",
    "ax[0].legend(labels = ['train losses', 'valid losses'])\n",
    "# 在第二个子图中绘制训练准确率随着epoch的变化趋势，横坐标为x，纵坐标为train_accs。\n",
    "ax[1].plot(x, train_accs)\n",
    "# 在第二个子图中绘制验证准确率随着epoch的变化趋势，横坐标为x，纵坐标为valid_accs。\n",
    "ax[1].plot(x, valid_accs)\n",
    "# 设置第二个子图的纵轴标签为'Accuracy'，设置字体加粗。\n",
    "ax[1].set_ylabel('Accuracy', weight = 'bold')\n",
    "# 设置第二个子图的横轴标签为'Epochs'。\n",
    "ax[1].set_xlabel('Epochs')\n",
    "# 设置第二个子图的图例，其中包含'train acc'和'valid acc'的标签。\n",
    "ax[1].legend(labels = ['train acc', 'valid acc'])\n",
    "# 设置第二个子图的网格线，透明度为0.3。\n",
    "ax[1].grid(alpha = 0.3)\n",
    "# 设置整个图形的标题为'Fold = 0'，设置字体加粗。\n",
    "fig.suptitle('Fold = 0', weight = 'bold') "
   ]
  },
  {
   "cell_type": "markdown",
   "metadata": {},
   "source": [
    "# 7.Evaluation\n",
    "我们在本报告中使用auc作为评估指标。"
   ]
  },
  {
   "cell_type": "code",
   "execution_count": 46,
   "metadata": {},
   "outputs": [],
   "source": [
    "# 调用验证函数validating，传入验证数据加载器valid_dataloader和模型model，并获取验证过程中的损失值、准确率和输出概率值。\n",
    "valid_loss, valid_acc, valid_probs = validating(valid_dataloader, model)\n",
    "# 将验证输出概率值valid_probs转换为NumPy数组，并展平为一维数组。这样做的目的是为后续计算ROC曲线做准备。\n",
    "valid_probs = np.asarray(valid_probs).flatten()\n",
    "# 从验证数据中提取目标标签（toxic, severe_toxic, obscene, threat, insult, identity_hate），并将其转换为NumPy数组，并展平为一维数组。这样做的目的是为后续计算ROC曲线做准备。\n",
    "y_valid = p_valid[['toxic', 'severe_toxic','obscene', 'threat', 'insult','identity_hate']].to_numpy().flatten()\n",
    "# 使用roc_curve函数计算ROC曲线的FPR、TPR和阈值。y_valid是真实标签，valid_probs是预测概率值。函数返回的fpr是FPR数组，tpr是TPR数组，_表示不使用阈值。\n",
    "fpr, tpr, _ = roc_curve(y_valid, valid_probs)"
   ]
  },
  {
   "cell_type": "code",
   "execution_count": 47,
   "metadata": {},
   "outputs": [
    {
     "data": {
      "image/png": "[encoded data removed]",
      "text/plain": [
       "<Figure size 640x480 with 1 Axes>"
      ]
     },
     "metadata": {},
     "output_type": "display_data"
    }
   ],
   "source": [
    "# 创建一个新的图形，并返回一个包含图形和轴对象的元组。其中，fig是图形对象，ax是轴对象。\n",
    "fig, ax = plt.subplots()\n",
    "# 在轴对象ax上绘制ROC曲线，横坐标为FPR，纵坐标为TPR。这里使用之前计算得到的FPR和TPR数组。\n",
    "ax.plot(fpr, tpr)\n",
    "# 设置图形的标题为'ROC Curve'。\n",
    "ax.set_title('ROC Curv')\n",
    "# 设置横轴标签为'FPR'，表示假正例率。\n",
    "ax.set_xlabel('FPR')\n",
    "# 设置纵轴标签为'TPR'，表示真正例率。\n",
    "ax.set_ylabel('TPR')\n",
    "# 显示图形。\n",
    "plt.show()"
   ]
  },
  {
   "cell_type": "code",
   "execution_count": 48,
   "metadata": {},
   "outputs": [
    {
     "data": {
      "text/plain": [
       "0.6339817387852322"
      ]
     },
     "execution_count": 48,
     "metadata": {},
     "output_type": "execute_result"
    }
   ],
   "source": [
    "# 计算由fpr和tpr定义的ROC曲线下的面积\n",
    "auc(fpr, tpr)"
   ]
  },
  {
   "cell_type": "markdown",
   "metadata": {},
   "source": [
    "# PART 2\n",
    "您可以从这里开始运行笔记本直到结束。我已经在这个笔记本中复制了第一部分的所有必要部分。这里的目标是展示模型如何为5个不同的折叠工作。纪元设置为5，并使用三角集的前2000行。随意更改这些参数，看看它如何影响准确性。"
   ]
  }
 ],
 "metadata": {
  "kernelspec": {
   "display_name": "Python 3",
   "language": "python",
   "name": "python3"
  },
  "language_info": {
   "codemirror_mode": {
    "name": "ipython",
    "version": 3
   },
   "file_extension": ".py",
   "mimetype": "text/x-python",
   "name": "python",
   "nbconvert_exporter": "python",
   "pygments_lexer": "ipython3",
   "version": "3.10.12"
  }
 },
 "nbformat": 4,
 "nbformat_minor": 2
}
